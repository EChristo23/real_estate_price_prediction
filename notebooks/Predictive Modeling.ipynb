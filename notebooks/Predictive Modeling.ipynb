{
 "cells": [
  {
   "cell_type": "code",
   "execution_count": 1,
   "id": "172102e7-c94f-41ec-8730-b4c5cdf9406a",
   "metadata": {},
   "outputs": [],
   "source": [
    "import sys\n",
    " \n",
    "# setting path\n",
    "sys.path.append('../../real_estate_price_prediction')"
   ]
  },
  {
   "cell_type": "code",
   "execution_count": 72,
   "id": "6911dc6f-9cb8-441a-975e-c1ba20f623df",
   "metadata": {},
   "outputs": [],
   "source": [
    "import pandas as pd\n",
    "import numpy as np\n",
    "import matplotlib.pyplot as plt\n",
    "import xgboost as xgb\n",
    "from joblib import dump\n",
    "import pickle\n",
    "from sklearn.linear_model import Ridge, RidgeCV\n",
    "from sklearn.model_selection import train_test_split, cross_val_score\n",
    "from sklearn.metrics import mean_squared_error\n",
    "from sklearn.preprocessing import FunctionTransformer, OneHotEncoder\n",
    "from sklearn.feature_extraction import DictVectorizer\n",
    "from sklearn.pipeline import Pipeline, make_pipeline\n",
    "from sklearn.compose import ColumnTransformer, make_column_transformer\n",
    "from sklearn.impute import SimpleImputer\n",
    "from sklearn.metrics import mean_absolute_percentage_error, mean_squared_log_error, r2_score, PredictionErrorDisplay\n",
    "import copy\n",
    "\n",
    "from utils import counties_transformer\n",
    "from utils import column_transformer\n",
    "from utils import pos_processing"
   ]
  },
  {
   "cell_type": "markdown",
   "id": "2e7e8044-6589-4695-b201-93f0897b36fa",
   "metadata": {},
   "source": [
    "# Dataset"
   ]
  },
  {
   "cell_type": "markdown",
   "id": "f1b1dfd5-a0e9-46ea-b2cd-da8815f2c370",
   "metadata": {},
   "source": [
    "## Data Import"
   ]
  },
  {
   "cell_type": "code",
   "execution_count": 3,
   "id": "97322b5d-954d-4eae-b7b1-fd664041f2e7",
   "metadata": {},
   "outputs": [],
   "source": [
    "df = pd.read_pickle('../data/df_input.pkl')"
   ]
  },
  {
   "cell_type": "markdown",
   "id": "436bf8cb-4783-4a64-8b7a-2df9b4cbae70",
   "metadata": {},
   "source": [
    "## Data Filter"
   ]
  },
  {
   "cell_type": "code",
   "execution_count": 4,
   "id": "b06ddbfe-2ec1-4c31-abb9-50ce5e542e79",
   "metadata": {},
   "outputs": [],
   "source": [
    "# There are extreme outliers in both tails\n",
    "q = 0.975"
   ]
  },
  {
   "cell_type": "code",
   "execution_count": 5,
   "id": "11a3849d-4920-4ab1-a5c7-b11414e15346",
   "metadata": {},
   "outputs": [
    {
     "data": {
      "text/plain": [
       "395000.0"
      ]
     },
     "execution_count": 5,
     "metadata": {},
     "output_type": "execute_result"
    }
   ],
   "source": [
    "df.price.quantile(q)"
   ]
  },
  {
   "cell_type": "code",
   "execution_count": 6,
   "id": "835c363e-74de-438a-941b-b027c91c3ebb",
   "metadata": {},
   "outputs": [
    {
     "data": {
      "text/plain": [
       "38900.0"
      ]
     },
     "execution_count": 6,
     "metadata": {},
     "output_type": "execute_result"
    }
   ],
   "source": [
    "df.price.quantile(1-q)"
   ]
  },
  {
   "cell_type": "code",
   "execution_count": 7,
   "id": "ec55c84e-883f-423b-af61-014a2ede07c0",
   "metadata": {},
   "outputs": [],
   "source": [
    "df = df[(df.price < df.price.quantile(0.975)) & (df.price > df.price.quantile(0.025))]"
   ]
  },
  {
   "cell_type": "code",
   "execution_count": 8,
   "id": "fed9b80d-f184-43b8-89f7-b1f6e06771c8",
   "metadata": {},
   "outputs": [
    {
     "data": {
      "text/plain": [
       "count     28226.000000\n",
       "mean     110025.620775\n",
       "std       61662.664781\n",
       "min       38901.000000\n",
       "25%       68500.000000\n",
       "50%       90000.000000\n",
       "75%      130000.000000\n",
       "max      393000.000000\n",
       "Name: price, dtype: float64"
      ]
     },
     "execution_count": 8,
     "metadata": {},
     "output_type": "execute_result"
    }
   ],
   "source": [
    "df.price.describe()"
   ]
  },
  {
   "cell_type": "code",
   "execution_count": 9,
   "id": "50286ca0-c694-401e-b7cd-5c5b9424274b",
   "metadata": {},
   "outputs": [],
   "source": [
    "df = df[df.suprafata_teren <= 2500.0]"
   ]
  },
  {
   "cell_type": "code",
   "execution_count": 10,
   "id": "e541e117-23e2-4a85-b05b-ccc8c0983728",
   "metadata": {},
   "outputs": [],
   "source": [
    "df.reset_index(drop = True, inplace=True)"
   ]
  },
  {
   "cell_type": "code",
   "execution_count": 11,
   "id": "0788090a-82a9-4e6f-9601-a4bb673965e8",
   "metadata": {},
   "outputs": [],
   "source": [
    "df = df.loc[:, ['property_type', 'county', 'zona', 'suprafata_utila', 'suprafata_teren', 'posibilitate_parcare', 'nr_locuri_parcare', 'numar_camere', 'numar_bai', 'an_finalizare_constructie', 'price']]"
   ]
  },
  {
   "cell_type": "markdown",
   "id": "a5d45e89-ccdd-45f6-8dcc-9e86caf62c0e",
   "metadata": {},
   "source": [
    "# Train Test Split"
   ]
  },
  {
   "cell_type": "code",
   "execution_count": 12,
   "id": "a306327a-cdd1-469c-a2b4-4400e9371562",
   "metadata": {},
   "outputs": [],
   "source": [
    "X = df.drop('price', axis = 1)\n",
    "y = df.price"
   ]
  },
  {
   "cell_type": "code",
   "execution_count": 13,
   "id": "a00d1944-6eac-4ace-afaa-620284402343",
   "metadata": {},
   "outputs": [],
   "source": [
    "from sklearn.model_selection import train_test_split, RandomizedSearchCV\n",
    "X_train, X_test, y_train, y_test = train_test_split(\n",
    "    X, \n",
    "    y, \n",
    "    test_size=0.2, \n",
    "    random_state=123, \n",
    "    stratify=X.county.values\n",
    ")"
   ]
  },
  {
   "cell_type": "code",
   "execution_count": 14,
   "id": "51666f65-384d-4e01-9578-b7524bdc784c",
   "metadata": {},
   "outputs": [
    {
     "data": {
      "text/plain": [
       "count     22381.000000\n",
       "mean     109815.799651\n",
       "std       61268.499962\n",
       "min       38901.000000\n",
       "25%       68500.000000\n",
       "50%       90000.000000\n",
       "75%      130000.000000\n",
       "max      393000.000000\n",
       "Name: price, dtype: float64"
      ]
     },
     "execution_count": 14,
     "metadata": {},
     "output_type": "execute_result"
    }
   ],
   "source": [
    "y_train.describe()"
   ]
  },
  {
   "cell_type": "code",
   "execution_count": 15,
   "id": "be72c5f6-cf3a-42a9-b86a-143f7ce00830",
   "metadata": {},
   "outputs": [
    {
     "data": {
      "text/plain": [
       "count      5596.000000\n",
       "mean     109638.923159\n",
       "std       61781.975949\n",
       "min       38999.000000\n",
       "25%       68000.000000\n",
       "50%       89800.000000\n",
       "75%      130000.000000\n",
       "max      392000.000000\n",
       "Name: price, dtype: float64"
      ]
     },
     "execution_count": 15,
     "metadata": {},
     "output_type": "execute_result"
    }
   ],
   "source": [
    "y_test.describe()"
   ]
  },
  {
   "cell_type": "markdown",
   "id": "dc5ba52f-0fc5-40c9-ba4a-9511936ce730",
   "metadata": {},
   "source": [
    "# Feature Engineering"
   ]
  },
  {
   "cell_type": "code",
   "execution_count": 16,
   "id": "25143286-7d82-4529-a572-7fbfc6f3168a",
   "metadata": {
    "scrolled": true
   },
   "outputs": [
    {
     "name": "stdout",
     "output_type": "stream",
     "text": [
      "property_type                    0\n",
      "county                           0\n",
      "zona                             2\n",
      "suprafata_utila                  0\n",
      "suprafata_teren                  0\n",
      "posibilitate_parcare         12566\n",
      "nr_locuri_parcare                0\n",
      "numar_camere                     0\n",
      "numar_bai                     4212\n",
      "an_finalizare_constructie     1429\n",
      "dtype: int64\n"
     ]
    }
   ],
   "source": [
    "# Import necessary modules\n",
    "#from sklearn_pandas import DataFrameMappera\n",
    "\n",
    "# Check number of nulls in each feature columna\n",
    "nulls_per_column = X_train.isnull().sum()\n",
    "print(nulls_per_column)\n",
    "\n",
    "# Create a boolean mask for categorical columns\n",
    "categorical_feature_mask = X_train.dtypes == object\n",
    "\n",
    "# Get list of categorical column names\n",
    "categorical_columns = X_train.columns[categorical_feature_mask].tolist()\n",
    "\n",
    "# Get list of non-categorical column names\n",
    "non_categorical_columns = X_train.columns[~categorical_feature_mask].tolist()"
   ]
  },
  {
   "cell_type": "code",
   "execution_count": 17,
   "id": "cd889e4c-b512-4901-be5b-63bfde298253",
   "metadata": {},
   "outputs": [
    {
     "data": {
      "text/html": [
       "<style>#sk-container-id-1 {color: black;}#sk-container-id-1 pre{padding: 0;}#sk-container-id-1 div.sk-toggleable {background-color: white;}#sk-container-id-1 label.sk-toggleable__label {cursor: pointer;display: block;width: 100%;margin-bottom: 0;padding: 0.3em;box-sizing: border-box;text-align: center;}#sk-container-id-1 label.sk-toggleable__label-arrow:before {content: \"▸\";float: left;margin-right: 0.25em;color: #696969;}#sk-container-id-1 label.sk-toggleable__label-arrow:hover:before {color: black;}#sk-container-id-1 div.sk-estimator:hover label.sk-toggleable__label-arrow:before {color: black;}#sk-container-id-1 div.sk-toggleable__content {max-height: 0;max-width: 0;overflow: hidden;text-align: left;background-color: #f0f8ff;}#sk-container-id-1 div.sk-toggleable__content pre {margin: 0.2em;color: black;border-radius: 0.25em;background-color: #f0f8ff;}#sk-container-id-1 input.sk-toggleable__control:checked~div.sk-toggleable__content {max-height: 200px;max-width: 100%;overflow: auto;}#sk-container-id-1 input.sk-toggleable__control:checked~label.sk-toggleable__label-arrow:before {content: \"▾\";}#sk-container-id-1 div.sk-estimator input.sk-toggleable__control:checked~label.sk-toggleable__label {background-color: #d4ebff;}#sk-container-id-1 div.sk-label input.sk-toggleable__control:checked~label.sk-toggleable__label {background-color: #d4ebff;}#sk-container-id-1 input.sk-hidden--visually {border: 0;clip: rect(1px 1px 1px 1px);clip: rect(1px, 1px, 1px, 1px);height: 1px;margin: -1px;overflow: hidden;padding: 0;position: absolute;width: 1px;}#sk-container-id-1 div.sk-estimator {font-family: monospace;background-color: #f0f8ff;border: 1px dotted black;border-radius: 0.25em;box-sizing: border-box;margin-bottom: 0.5em;}#sk-container-id-1 div.sk-estimator:hover {background-color: #d4ebff;}#sk-container-id-1 div.sk-parallel-item::after {content: \"\";width: 100%;border-bottom: 1px solid gray;flex-grow: 1;}#sk-container-id-1 div.sk-label:hover label.sk-toggleable__label {background-color: #d4ebff;}#sk-container-id-1 div.sk-serial::before {content: \"\";position: absolute;border-left: 1px solid gray;box-sizing: border-box;top: 0;bottom: 0;left: 50%;z-index: 0;}#sk-container-id-1 div.sk-serial {display: flex;flex-direction: column;align-items: center;background-color: white;padding-right: 0.2em;padding-left: 0.2em;position: relative;}#sk-container-id-1 div.sk-item {position: relative;z-index: 1;}#sk-container-id-1 div.sk-parallel {display: flex;align-items: stretch;justify-content: center;background-color: white;position: relative;}#sk-container-id-1 div.sk-item::before, #sk-container-id-1 div.sk-parallel-item::before {content: \"\";position: absolute;border-left: 1px solid gray;box-sizing: border-box;top: 0;bottom: 0;left: 50%;z-index: -1;}#sk-container-id-1 div.sk-parallel-item {display: flex;flex-direction: column;z-index: 1;position: relative;background-color: white;}#sk-container-id-1 div.sk-parallel-item:first-child::after {align-self: flex-end;width: 50%;}#sk-container-id-1 div.sk-parallel-item:last-child::after {align-self: flex-start;width: 50%;}#sk-container-id-1 div.sk-parallel-item:only-child::after {width: 0;}#sk-container-id-1 div.sk-dashed-wrapped {border: 1px dashed gray;margin: 0 0.4em 0.5em 0.4em;box-sizing: border-box;padding-bottom: 0.4em;background-color: white;}#sk-container-id-1 div.sk-label label {font-family: monospace;font-weight: bold;display: inline-block;line-height: 1.2em;}#sk-container-id-1 div.sk-label-container {text-align: center;}#sk-container-id-1 div.sk-container {/* jupyter's `normalize.less` sets `[hidden] { display: none; }` but bootstrap.min.css set `[hidden] { display: none !important; }` so we also need the `!important` here to be able to override the default hidden behavior on the sphinx rendered scikit-learn.org. See: https://github.com/scikit-learn/scikit-learn/issues/21755 */display: inline-block !important;position: relative;}#sk-container-id-1 div.sk-text-repr-fallback {display: none;}</style><div id=\"sk-container-id-1\" class=\"sk-top-container\"><div class=\"sk-text-repr-fallback\"><pre>ColumnTransformer(transformers=[(&#x27;pipeline-1&#x27;,\n",
       "                                 Pipeline(steps=[(&#x27;simpleimputer&#x27;,\n",
       "                                                  SimpleImputer(strategy=&#x27;median&#x27;))]),\n",
       "                                 [&#x27;suprafata_utila&#x27;, &#x27;suprafata_teren&#x27;,\n",
       "                                  &#x27;nr_locuri_parcare&#x27;, &#x27;numar_camere&#x27;,\n",
       "                                  &#x27;numar_bai&#x27;, &#x27;an_finalizare_constructie&#x27;]),\n",
       "                                (&#x27;pipeline-2&#x27;,\n",
       "                                 Pipeline(steps=[(&#x27;simpleimputer&#x27;,\n",
       "                                                  SimpleImputer(fill_value=&#x27;missing&#x27;,\n",
       "                                                                strategy=&#x27;constant&#x27;)),\n",
       "                                                 (&#x27;onehotencoder&#x27;,\n",
       "                                                  OneHotEncoder(drop=&#x27;if_binary&#x27;,\n",
       "                                                                sparse_output=False))]),\n",
       "                                 [&#x27;property_type&#x27;, &#x27;county&#x27;, &#x27;zona&#x27;,\n",
       "                                  &#x27;posibilitate_parcare&#x27;])],\n",
       "                  verbose_feature_names_out=False)</pre><b>In a Jupyter environment, please rerun this cell to show the HTML representation or trust the notebook. <br />On GitHub, the HTML representation is unable to render, please try loading this page with nbviewer.org.</b></div><div class=\"sk-container\" hidden><div class=\"sk-item sk-dashed-wrapped\"><div class=\"sk-label-container\"><div class=\"sk-label sk-toggleable\"><input class=\"sk-toggleable__control sk-hidden--visually\" id=\"sk-estimator-id-1\" type=\"checkbox\" ><label for=\"sk-estimator-id-1\" class=\"sk-toggleable__label sk-toggleable__label-arrow\">ColumnTransformer</label><div class=\"sk-toggleable__content\"><pre>ColumnTransformer(transformers=[(&#x27;pipeline-1&#x27;,\n",
       "                                 Pipeline(steps=[(&#x27;simpleimputer&#x27;,\n",
       "                                                  SimpleImputer(strategy=&#x27;median&#x27;))]),\n",
       "                                 [&#x27;suprafata_utila&#x27;, &#x27;suprafata_teren&#x27;,\n",
       "                                  &#x27;nr_locuri_parcare&#x27;, &#x27;numar_camere&#x27;,\n",
       "                                  &#x27;numar_bai&#x27;, &#x27;an_finalizare_constructie&#x27;]),\n",
       "                                (&#x27;pipeline-2&#x27;,\n",
       "                                 Pipeline(steps=[(&#x27;simpleimputer&#x27;,\n",
       "                                                  SimpleImputer(fill_value=&#x27;missing&#x27;,\n",
       "                                                                strategy=&#x27;constant&#x27;)),\n",
       "                                                 (&#x27;onehotencoder&#x27;,\n",
       "                                                  OneHotEncoder(drop=&#x27;if_binary&#x27;,\n",
       "                                                                sparse_output=False))]),\n",
       "                                 [&#x27;property_type&#x27;, &#x27;county&#x27;, &#x27;zona&#x27;,\n",
       "                                  &#x27;posibilitate_parcare&#x27;])],\n",
       "                  verbose_feature_names_out=False)</pre></div></div></div><div class=\"sk-parallel\"><div class=\"sk-parallel-item\"><div class=\"sk-item\"><div class=\"sk-label-container\"><div class=\"sk-label sk-toggleable\"><input class=\"sk-toggleable__control sk-hidden--visually\" id=\"sk-estimator-id-2\" type=\"checkbox\" ><label for=\"sk-estimator-id-2\" class=\"sk-toggleable__label sk-toggleable__label-arrow\">pipeline-1</label><div class=\"sk-toggleable__content\"><pre>[&#x27;suprafata_utila&#x27;, &#x27;suprafata_teren&#x27;, &#x27;nr_locuri_parcare&#x27;, &#x27;numar_camere&#x27;, &#x27;numar_bai&#x27;, &#x27;an_finalizare_constructie&#x27;]</pre></div></div></div><div class=\"sk-serial\"><div class=\"sk-item\"><div class=\"sk-serial\"><div class=\"sk-item\"><div class=\"sk-estimator sk-toggleable\"><input class=\"sk-toggleable__control sk-hidden--visually\" id=\"sk-estimator-id-3\" type=\"checkbox\" ><label for=\"sk-estimator-id-3\" class=\"sk-toggleable__label sk-toggleable__label-arrow\">SimpleImputer</label><div class=\"sk-toggleable__content\"><pre>SimpleImputer(strategy=&#x27;median&#x27;)</pre></div></div></div></div></div></div></div></div><div class=\"sk-parallel-item\"><div class=\"sk-item\"><div class=\"sk-label-container\"><div class=\"sk-label sk-toggleable\"><input class=\"sk-toggleable__control sk-hidden--visually\" id=\"sk-estimator-id-4\" type=\"checkbox\" ><label for=\"sk-estimator-id-4\" class=\"sk-toggleable__label sk-toggleable__label-arrow\">pipeline-2</label><div class=\"sk-toggleable__content\"><pre>[&#x27;property_type&#x27;, &#x27;county&#x27;, &#x27;zona&#x27;, &#x27;posibilitate_parcare&#x27;]</pre></div></div></div><div class=\"sk-serial\"><div class=\"sk-item\"><div class=\"sk-serial\"><div class=\"sk-item\"><div class=\"sk-estimator sk-toggleable\"><input class=\"sk-toggleable__control sk-hidden--visually\" id=\"sk-estimator-id-5\" type=\"checkbox\" ><label for=\"sk-estimator-id-5\" class=\"sk-toggleable__label sk-toggleable__label-arrow\">SimpleImputer</label><div class=\"sk-toggleable__content\"><pre>SimpleImputer(fill_value=&#x27;missing&#x27;, strategy=&#x27;constant&#x27;)</pre></div></div></div><div class=\"sk-item\"><div class=\"sk-estimator sk-toggleable\"><input class=\"sk-toggleable__control sk-hidden--visually\" id=\"sk-estimator-id-6\" type=\"checkbox\" ><label for=\"sk-estimator-id-6\" class=\"sk-toggleable__label sk-toggleable__label-arrow\">OneHotEncoder</label><div class=\"sk-toggleable__content\"><pre>OneHotEncoder(drop=&#x27;if_binary&#x27;, sparse_output=False)</pre></div></div></div></div></div></div></div></div></div></div></div></div>"
      ],
      "text/plain": [
       "ColumnTransformer(transformers=[('pipeline-1',\n",
       "                                 Pipeline(steps=[('simpleimputer',\n",
       "                                                  SimpleImputer(strategy='median'))]),\n",
       "                                 ['suprafata_utila', 'suprafata_teren',\n",
       "                                  'nr_locuri_parcare', 'numar_camere',\n",
       "                                  'numar_bai', 'an_finalizare_constructie']),\n",
       "                                ('pipeline-2',\n",
       "                                 Pipeline(steps=[('simpleimputer',\n",
       "                                                  SimpleImputer(fill_value='missing',\n",
       "                                                                strategy='constant')),\n",
       "                                                 ('onehotencoder',\n",
       "                                                  OneHotEncoder(drop='if_binary',\n",
       "                                                                sparse_output=False))]),\n",
       "                                 ['property_type', 'county', 'zona',\n",
       "                                  'posibilitate_parcare'])],\n",
       "                  verbose_feature_names_out=False)"
      ]
     },
     "execution_count": 17,
     "metadata": {},
     "output_type": "execute_result"
    }
   ],
   "source": [
    "\n",
    "num_pipe = make_pipeline(\n",
    "    SimpleImputer(strategy=\"median\")\n",
    ")\n",
    "num_pipe.set_output(transform = 'pandas')\n",
    "\n",
    "cat_pipe = make_pipeline(\n",
    "    SimpleImputer(strategy = \"constant\", fill_value='missing'), \n",
    "    OneHotEncoder(sparse_output=False, drop='if_binary')\n",
    ")\n",
    "cat_pipe.set_output(transform = 'pandas')\n",
    "\n",
    "numeric_categorical_transformer = make_column_transformer(\n",
    "    (num_pipe, non_categorical_columns),\n",
    "    (cat_pipe, categorical_columns),\n",
    "    verbose_feature_names_out = False\n",
    ")\n",
    "numeric_categorical_transformer.set_output(transform = 'pandas')"
   ]
  },
  {
   "cell_type": "code",
   "execution_count": 18,
   "id": "1450ab00-7d36-46cb-b5cf-353b49c9721f",
   "metadata": {},
   "outputs": [
    {
     "data": {
      "text/plain": [
       "sklearn.compose._column_transformer.ColumnTransformer"
      ]
     },
     "execution_count": 18,
     "metadata": {},
     "output_type": "execute_result"
    }
   ],
   "source": [
    "type(column_transformer)"
   ]
  },
  {
   "cell_type": "code",
   "execution_count": 19,
   "id": "eba86852-ac0b-41f0-aebe-b1ee3b289b3d",
   "metadata": {},
   "outputs": [],
   "source": [
    "#  Both column_transformer and pos_processing are ColumnTransformer objects.\n",
    "#  They are defined in the utils.py module because it is necessary to reference them when loading them in the application with picle.load()\n",
    "\n",
    "transformation_pipe = Pipeline(\n",
    "    [\n",
    "        (\"columns_transformers\", column_transformer),\n",
    "        (\"feature_transformer\", numeric_categorical_transformer),\n",
    "        (\"area\", pos_processing) \n",
    "    ]\n",
    ")\n"
   ]
  },
  {
   "cell_type": "code",
   "execution_count": 20,
   "id": "e902e2a8-0026-4e22-b094-f2ae7ca4cc07",
   "metadata": {},
   "outputs": [],
   "source": [
    "#  Save only the transfomation pipe\n",
    "pickle.dump(transformation_pipe, open('../models/ml/transformation_pipe.pkl', 'wb'))"
   ]
  },
  {
   "cell_type": "markdown",
   "id": "3aa8233c-9cb5-4d9d-8ce6-a8f553ac2b28",
   "metadata": {},
   "source": [
    "# Modeling Baseline"
   ]
  },
  {
   "cell_type": "markdown",
   "id": "80bad539-9842-49f2-9486-1905341267f4",
   "metadata": {},
   "source": [
    "## Baseline regression"
   ]
  },
  {
   "cell_type": "code",
   "execution_count": 21,
   "id": "68e01bf0-e727-452b-bc98-287af50b5ba7",
   "metadata": {},
   "outputs": [],
   "source": [
    "# Are the transformation steps working?\n",
    "X_train_transformed = transformation_pipe.fit_transform(X_train)"
   ]
  },
  {
   "cell_type": "code",
   "execution_count": 22,
   "id": "04bf63cc-80bd-4def-8434-9e32333f8166",
   "metadata": {},
   "outputs": [],
   "source": [
    "X_test_transformed = transformation_pipe.transform(X_test)"
   ]
  },
  {
   "cell_type": "code",
   "execution_count": 23,
   "id": "3f099b70-1d6b-4218-9e3f-d0d7babc4782",
   "metadata": {},
   "outputs": [
    {
     "data": {
      "text/html": [
       "<style>#sk-container-id-2 {color: black;}#sk-container-id-2 pre{padding: 0;}#sk-container-id-2 div.sk-toggleable {background-color: white;}#sk-container-id-2 label.sk-toggleable__label {cursor: pointer;display: block;width: 100%;margin-bottom: 0;padding: 0.3em;box-sizing: border-box;text-align: center;}#sk-container-id-2 label.sk-toggleable__label-arrow:before {content: \"▸\";float: left;margin-right: 0.25em;color: #696969;}#sk-container-id-2 label.sk-toggleable__label-arrow:hover:before {color: black;}#sk-container-id-2 div.sk-estimator:hover label.sk-toggleable__label-arrow:before {color: black;}#sk-container-id-2 div.sk-toggleable__content {max-height: 0;max-width: 0;overflow: hidden;text-align: left;background-color: #f0f8ff;}#sk-container-id-2 div.sk-toggleable__content pre {margin: 0.2em;color: black;border-radius: 0.25em;background-color: #f0f8ff;}#sk-container-id-2 input.sk-toggleable__control:checked~div.sk-toggleable__content {max-height: 200px;max-width: 100%;overflow: auto;}#sk-container-id-2 input.sk-toggleable__control:checked~label.sk-toggleable__label-arrow:before {content: \"▾\";}#sk-container-id-2 div.sk-estimator input.sk-toggleable__control:checked~label.sk-toggleable__label {background-color: #d4ebff;}#sk-container-id-2 div.sk-label input.sk-toggleable__control:checked~label.sk-toggleable__label {background-color: #d4ebff;}#sk-container-id-2 input.sk-hidden--visually {border: 0;clip: rect(1px 1px 1px 1px);clip: rect(1px, 1px, 1px, 1px);height: 1px;margin: -1px;overflow: hidden;padding: 0;position: absolute;width: 1px;}#sk-container-id-2 div.sk-estimator {font-family: monospace;background-color: #f0f8ff;border: 1px dotted black;border-radius: 0.25em;box-sizing: border-box;margin-bottom: 0.5em;}#sk-container-id-2 div.sk-estimator:hover {background-color: #d4ebff;}#sk-container-id-2 div.sk-parallel-item::after {content: \"\";width: 100%;border-bottom: 1px solid gray;flex-grow: 1;}#sk-container-id-2 div.sk-label:hover label.sk-toggleable__label {background-color: #d4ebff;}#sk-container-id-2 div.sk-serial::before {content: \"\";position: absolute;border-left: 1px solid gray;box-sizing: border-box;top: 0;bottom: 0;left: 50%;z-index: 0;}#sk-container-id-2 div.sk-serial {display: flex;flex-direction: column;align-items: center;background-color: white;padding-right: 0.2em;padding-left: 0.2em;position: relative;}#sk-container-id-2 div.sk-item {position: relative;z-index: 1;}#sk-container-id-2 div.sk-parallel {display: flex;align-items: stretch;justify-content: center;background-color: white;position: relative;}#sk-container-id-2 div.sk-item::before, #sk-container-id-2 div.sk-parallel-item::before {content: \"\";position: absolute;border-left: 1px solid gray;box-sizing: border-box;top: 0;bottom: 0;left: 50%;z-index: -1;}#sk-container-id-2 div.sk-parallel-item {display: flex;flex-direction: column;z-index: 1;position: relative;background-color: white;}#sk-container-id-2 div.sk-parallel-item:first-child::after {align-self: flex-end;width: 50%;}#sk-container-id-2 div.sk-parallel-item:last-child::after {align-self: flex-start;width: 50%;}#sk-container-id-2 div.sk-parallel-item:only-child::after {width: 0;}#sk-container-id-2 div.sk-dashed-wrapped {border: 1px dashed gray;margin: 0 0.4em 0.5em 0.4em;box-sizing: border-box;padding-bottom: 0.4em;background-color: white;}#sk-container-id-2 div.sk-label label {font-family: monospace;font-weight: bold;display: inline-block;line-height: 1.2em;}#sk-container-id-2 div.sk-label-container {text-align: center;}#sk-container-id-2 div.sk-container {/* jupyter's `normalize.less` sets `[hidden] { display: none; }` but bootstrap.min.css set `[hidden] { display: none !important; }` so we also need the `!important` here to be able to override the default hidden behavior on the sphinx rendered scikit-learn.org. See: https://github.com/scikit-learn/scikit-learn/issues/21755 */display: inline-block !important;position: relative;}#sk-container-id-2 div.sk-text-repr-fallback {display: none;}</style><div id=\"sk-container-id-2\" class=\"sk-top-container\"><div class=\"sk-text-repr-fallback\"><pre>ColumnTransformer(transformers=[(&#x27;pipeline-1&#x27;,\n",
       "                                 Pipeline(steps=[(&#x27;simpleimputer&#x27;,\n",
       "                                                  SimpleImputer(strategy=&#x27;median&#x27;))]),\n",
       "                                 [&#x27;suprafata_utila&#x27;, &#x27;suprafata_teren&#x27;,\n",
       "                                  &#x27;nr_locuri_parcare&#x27;, &#x27;numar_camere&#x27;,\n",
       "                                  &#x27;numar_bai&#x27;, &#x27;an_finalizare_constructie&#x27;]),\n",
       "                                (&#x27;pipeline-2&#x27;,\n",
       "                                 Pipeline(steps=[(&#x27;simpleimputer&#x27;,\n",
       "                                                  SimpleImputer(fill_value=&#x27;missing&#x27;,\n",
       "                                                                strategy=&#x27;constant&#x27;)),\n",
       "                                                 (&#x27;onehotencoder&#x27;,\n",
       "                                                  OneHotEncoder(drop=&#x27;first&#x27;,\n",
       "                                                                sparse_output=False))]),\n",
       "                                 [&#x27;property_type&#x27;, &#x27;county&#x27;, &#x27;zona&#x27;,\n",
       "                                  &#x27;posibilitate_parcare&#x27;])],\n",
       "                  verbose_feature_names_out=False)</pre><b>In a Jupyter environment, please rerun this cell to show the HTML representation or trust the notebook. <br />On GitHub, the HTML representation is unable to render, please try loading this page with nbviewer.org.</b></div><div class=\"sk-container\" hidden><div class=\"sk-item sk-dashed-wrapped\"><div class=\"sk-label-container\"><div class=\"sk-label sk-toggleable\"><input class=\"sk-toggleable__control sk-hidden--visually\" id=\"sk-estimator-id-7\" type=\"checkbox\" ><label for=\"sk-estimator-id-7\" class=\"sk-toggleable__label sk-toggleable__label-arrow\">ColumnTransformer</label><div class=\"sk-toggleable__content\"><pre>ColumnTransformer(transformers=[(&#x27;pipeline-1&#x27;,\n",
       "                                 Pipeline(steps=[(&#x27;simpleimputer&#x27;,\n",
       "                                                  SimpleImputer(strategy=&#x27;median&#x27;))]),\n",
       "                                 [&#x27;suprafata_utila&#x27;, &#x27;suprafata_teren&#x27;,\n",
       "                                  &#x27;nr_locuri_parcare&#x27;, &#x27;numar_camere&#x27;,\n",
       "                                  &#x27;numar_bai&#x27;, &#x27;an_finalizare_constructie&#x27;]),\n",
       "                                (&#x27;pipeline-2&#x27;,\n",
       "                                 Pipeline(steps=[(&#x27;simpleimputer&#x27;,\n",
       "                                                  SimpleImputer(fill_value=&#x27;missing&#x27;,\n",
       "                                                                strategy=&#x27;constant&#x27;)),\n",
       "                                                 (&#x27;onehotencoder&#x27;,\n",
       "                                                  OneHotEncoder(drop=&#x27;first&#x27;,\n",
       "                                                                sparse_output=False))]),\n",
       "                                 [&#x27;property_type&#x27;, &#x27;county&#x27;, &#x27;zona&#x27;,\n",
       "                                  &#x27;posibilitate_parcare&#x27;])],\n",
       "                  verbose_feature_names_out=False)</pre></div></div></div><div class=\"sk-parallel\"><div class=\"sk-parallel-item\"><div class=\"sk-item\"><div class=\"sk-label-container\"><div class=\"sk-label sk-toggleable\"><input class=\"sk-toggleable__control sk-hidden--visually\" id=\"sk-estimator-id-8\" type=\"checkbox\" ><label for=\"sk-estimator-id-8\" class=\"sk-toggleable__label sk-toggleable__label-arrow\">pipeline-1</label><div class=\"sk-toggleable__content\"><pre>[&#x27;suprafata_utila&#x27;, &#x27;suprafata_teren&#x27;, &#x27;nr_locuri_parcare&#x27;, &#x27;numar_camere&#x27;, &#x27;numar_bai&#x27;, &#x27;an_finalizare_constructie&#x27;]</pre></div></div></div><div class=\"sk-serial\"><div class=\"sk-item\"><div class=\"sk-serial\"><div class=\"sk-item\"><div class=\"sk-estimator sk-toggleable\"><input class=\"sk-toggleable__control sk-hidden--visually\" id=\"sk-estimator-id-9\" type=\"checkbox\" ><label for=\"sk-estimator-id-9\" class=\"sk-toggleable__label sk-toggleable__label-arrow\">SimpleImputer</label><div class=\"sk-toggleable__content\"><pre>SimpleImputer(strategy=&#x27;median&#x27;)</pre></div></div></div></div></div></div></div></div><div class=\"sk-parallel-item\"><div class=\"sk-item\"><div class=\"sk-label-container\"><div class=\"sk-label sk-toggleable\"><input class=\"sk-toggleable__control sk-hidden--visually\" id=\"sk-estimator-id-10\" type=\"checkbox\" ><label for=\"sk-estimator-id-10\" class=\"sk-toggleable__label sk-toggleable__label-arrow\">pipeline-2</label><div class=\"sk-toggleable__content\"><pre>[&#x27;property_type&#x27;, &#x27;county&#x27;, &#x27;zona&#x27;, &#x27;posibilitate_parcare&#x27;]</pre></div></div></div><div class=\"sk-serial\"><div class=\"sk-item\"><div class=\"sk-serial\"><div class=\"sk-item\"><div class=\"sk-estimator sk-toggleable\"><input class=\"sk-toggleable__control sk-hidden--visually\" id=\"sk-estimator-id-11\" type=\"checkbox\" ><label for=\"sk-estimator-id-11\" class=\"sk-toggleable__label sk-toggleable__label-arrow\">SimpleImputer</label><div class=\"sk-toggleable__content\"><pre>SimpleImputer(fill_value=&#x27;missing&#x27;, strategy=&#x27;constant&#x27;)</pre></div></div></div><div class=\"sk-item\"><div class=\"sk-estimator sk-toggleable\"><input class=\"sk-toggleable__control sk-hidden--visually\" id=\"sk-estimator-id-12\" type=\"checkbox\" ><label for=\"sk-estimator-id-12\" class=\"sk-toggleable__label sk-toggleable__label-arrow\">OneHotEncoder</label><div class=\"sk-toggleable__content\"><pre>OneHotEncoder(drop=&#x27;first&#x27;, sparse_output=False)</pre></div></div></div></div></div></div></div></div></div></div></div></div>"
      ],
      "text/plain": [
       "ColumnTransformer(transformers=[('pipeline-1',\n",
       "                                 Pipeline(steps=[('simpleimputer',\n",
       "                                                  SimpleImputer(strategy='median'))]),\n",
       "                                 ['suprafata_utila', 'suprafata_teren',\n",
       "                                  'nr_locuri_parcare', 'numar_camere',\n",
       "                                  'numar_bai', 'an_finalizare_constructie']),\n",
       "                                ('pipeline-2',\n",
       "                                 Pipeline(steps=[('simpleimputer',\n",
       "                                                  SimpleImputer(fill_value='missing',\n",
       "                                                                strategy='constant')),\n",
       "                                                 ('onehotencoder',\n",
       "                                                  OneHotEncoder(drop='first',\n",
       "                                                                sparse_output=False))]),\n",
       "                                 ['property_type', 'county', 'zona',\n",
       "                                  'posibilitate_parcare'])],\n",
       "                  verbose_feature_names_out=False)"
      ]
     },
     "execution_count": 23,
     "metadata": {},
     "output_type": "execute_result"
    }
   ],
   "source": [
    "num_pipe = make_pipeline(\n",
    "    SimpleImputer(strategy=\"median\")\n",
    ")\n",
    "num_pipe.set_output(transform = 'pandas')\n",
    "\n",
    "cat_pipe = make_pipeline(\n",
    "    SimpleImputer(strategy = \"constant\", fill_value='missing'), \n",
    "    OneHotEncoder(sparse_output=False, drop='first') # the main change is first, which is essential especially for OLS\n",
    ")\n",
    "cat_pipe.set_output(transform = 'pandas')\n",
    "\n",
    "numeric_categorical_transformer = make_column_transformer(\n",
    "    (num_pipe, non_categorical_columns),\n",
    "    (cat_pipe, categorical_columns),\n",
    "    verbose_feature_names_out = False\n",
    ")\n",
    "numeric_categorical_transformer.set_output(transform = 'pandas')"
   ]
  },
  {
   "cell_type": "code",
   "execution_count": 24,
   "id": "f07d9ab8-2ccb-49e9-ab68-8f73defe3cbc",
   "metadata": {},
   "outputs": [
    {
     "name": "stderr",
     "output_type": "stream",
     "text": [
      "/Library/Frameworks/Python.framework/Versions/3.11/lib/python3.11/site-packages/sklearn/preprocessing/_function_transformer.py:345: UserWarning: With transform=\"pandas\", `func` should return a DataFrame to follow the set_output API.\n",
      "  warnings.warn(\n"
     ]
    },
    {
     "data": {
      "text/html": [
       "<style>#sk-container-id-3 {color: black;}#sk-container-id-3 pre{padding: 0;}#sk-container-id-3 div.sk-toggleable {background-color: white;}#sk-container-id-3 label.sk-toggleable__label {cursor: pointer;display: block;width: 100%;margin-bottom: 0;padding: 0.3em;box-sizing: border-box;text-align: center;}#sk-container-id-3 label.sk-toggleable__label-arrow:before {content: \"▸\";float: left;margin-right: 0.25em;color: #696969;}#sk-container-id-3 label.sk-toggleable__label-arrow:hover:before {color: black;}#sk-container-id-3 div.sk-estimator:hover label.sk-toggleable__label-arrow:before {color: black;}#sk-container-id-3 div.sk-toggleable__content {max-height: 0;max-width: 0;overflow: hidden;text-align: left;background-color: #f0f8ff;}#sk-container-id-3 div.sk-toggleable__content pre {margin: 0.2em;color: black;border-radius: 0.25em;background-color: #f0f8ff;}#sk-container-id-3 input.sk-toggleable__control:checked~div.sk-toggleable__content {max-height: 200px;max-width: 100%;overflow: auto;}#sk-container-id-3 input.sk-toggleable__control:checked~label.sk-toggleable__label-arrow:before {content: \"▾\";}#sk-container-id-3 div.sk-estimator input.sk-toggleable__control:checked~label.sk-toggleable__label {background-color: #d4ebff;}#sk-container-id-3 div.sk-label input.sk-toggleable__control:checked~label.sk-toggleable__label {background-color: #d4ebff;}#sk-container-id-3 input.sk-hidden--visually {border: 0;clip: rect(1px 1px 1px 1px);clip: rect(1px, 1px, 1px, 1px);height: 1px;margin: -1px;overflow: hidden;padding: 0;position: absolute;width: 1px;}#sk-container-id-3 div.sk-estimator {font-family: monospace;background-color: #f0f8ff;border: 1px dotted black;border-radius: 0.25em;box-sizing: border-box;margin-bottom: 0.5em;}#sk-container-id-3 div.sk-estimator:hover {background-color: #d4ebff;}#sk-container-id-3 div.sk-parallel-item::after {content: \"\";width: 100%;border-bottom: 1px solid gray;flex-grow: 1;}#sk-container-id-3 div.sk-label:hover label.sk-toggleable__label {background-color: #d4ebff;}#sk-container-id-3 div.sk-serial::before {content: \"\";position: absolute;border-left: 1px solid gray;box-sizing: border-box;top: 0;bottom: 0;left: 50%;z-index: 0;}#sk-container-id-3 div.sk-serial {display: flex;flex-direction: column;align-items: center;background-color: white;padding-right: 0.2em;padding-left: 0.2em;position: relative;}#sk-container-id-3 div.sk-item {position: relative;z-index: 1;}#sk-container-id-3 div.sk-parallel {display: flex;align-items: stretch;justify-content: center;background-color: white;position: relative;}#sk-container-id-3 div.sk-item::before, #sk-container-id-3 div.sk-parallel-item::before {content: \"\";position: absolute;border-left: 1px solid gray;box-sizing: border-box;top: 0;bottom: 0;left: 50%;z-index: -1;}#sk-container-id-3 div.sk-parallel-item {display: flex;flex-direction: column;z-index: 1;position: relative;background-color: white;}#sk-container-id-3 div.sk-parallel-item:first-child::after {align-self: flex-end;width: 50%;}#sk-container-id-3 div.sk-parallel-item:last-child::after {align-self: flex-start;width: 50%;}#sk-container-id-3 div.sk-parallel-item:only-child::after {width: 0;}#sk-container-id-3 div.sk-dashed-wrapped {border: 1px dashed gray;margin: 0 0.4em 0.5em 0.4em;box-sizing: border-box;padding-bottom: 0.4em;background-color: white;}#sk-container-id-3 div.sk-label label {font-family: monospace;font-weight: bold;display: inline-block;line-height: 1.2em;}#sk-container-id-3 div.sk-label-container {text-align: center;}#sk-container-id-3 div.sk-container {/* jupyter's `normalize.less` sets `[hidden] { display: none; }` but bootstrap.min.css set `[hidden] { display: none !important; }` so we also need the `!important` here to be able to override the default hidden behavior on the sphinx rendered scikit-learn.org. See: https://github.com/scikit-learn/scikit-learn/issues/21755 */display: inline-block !important;position: relative;}#sk-container-id-3 div.sk-text-repr-fallback {display: none;}</style><div id=\"sk-container-id-3\" class=\"sk-top-container\"><div class=\"sk-text-repr-fallback\"><pre>Pipeline(steps=[(&#x27;column&#x27;,\n",
       "                 ColumnTransformer(remainder=&#x27;passthrough&#x27;,\n",
       "                                   transformers=[(&#x27;functiontransformer-1&#x27;,\n",
       "                                                  FunctionTransformer(func=&lt;function select_counties at 0x11d2fca40&gt;),\n",
       "                                                  [&#x27;county&#x27;]),\n",
       "                                                 (&#x27;functiontransformer-2&#x27;,\n",
       "                                                  FunctionTransformer(func=&lt;function is_central at 0x11d388220&gt;),\n",
       "                                                  [&#x27;zona&#x27;])],\n",
       "                                   verbose_feature_names_out=False)),\n",
       "                (&#x27;feature_transformer&#x27;,\n",
       "                 ColumnTransfo...\n",
       "                                                                   OneHotEncoder(drop=&#x27;first&#x27;,\n",
       "                                                                                 sparse_output=False))]),\n",
       "                                                  [&#x27;property_type&#x27;, &#x27;county&#x27;,\n",
       "                                                   &#x27;zona&#x27;,\n",
       "                                                   &#x27;posibilitate_parcare&#x27;])],\n",
       "                                   verbose_feature_names_out=False)),\n",
       "                (&#x27;area&#x27;,\n",
       "                 ColumnTransformer(remainder=&#x27;passthrough&#x27;,\n",
       "                                   transformers=[(&#x27;functiontransformer&#x27;,\n",
       "                                                  FunctionTransformer(func=&lt;function fe_area_ratio at 0x11d3884a0&gt;),\n",
       "                                                  [&#x27;suprafata_utila&#x27;,\n",
       "                                                   &#x27;suprafata_teren&#x27;])],\n",
       "                                   verbose_feature_names_out=False))])</pre><b>In a Jupyter environment, please rerun this cell to show the HTML representation or trust the notebook. <br />On GitHub, the HTML representation is unable to render, please try loading this page with nbviewer.org.</b></div><div class=\"sk-container\" hidden><div class=\"sk-item sk-dashed-wrapped\"><div class=\"sk-label-container\"><div class=\"sk-label sk-toggleable\"><input class=\"sk-toggleable__control sk-hidden--visually\" id=\"sk-estimator-id-13\" type=\"checkbox\" ><label for=\"sk-estimator-id-13\" class=\"sk-toggleable__label sk-toggleable__label-arrow\">Pipeline</label><div class=\"sk-toggleable__content\"><pre>Pipeline(steps=[(&#x27;column&#x27;,\n",
       "                 ColumnTransformer(remainder=&#x27;passthrough&#x27;,\n",
       "                                   transformers=[(&#x27;functiontransformer-1&#x27;,\n",
       "                                                  FunctionTransformer(func=&lt;function select_counties at 0x11d2fca40&gt;),\n",
       "                                                  [&#x27;county&#x27;]),\n",
       "                                                 (&#x27;functiontransformer-2&#x27;,\n",
       "                                                  FunctionTransformer(func=&lt;function is_central at 0x11d388220&gt;),\n",
       "                                                  [&#x27;zona&#x27;])],\n",
       "                                   verbose_feature_names_out=False)),\n",
       "                (&#x27;feature_transformer&#x27;,\n",
       "                 ColumnTransfo...\n",
       "                                                                   OneHotEncoder(drop=&#x27;first&#x27;,\n",
       "                                                                                 sparse_output=False))]),\n",
       "                                                  [&#x27;property_type&#x27;, &#x27;county&#x27;,\n",
       "                                                   &#x27;zona&#x27;,\n",
       "                                                   &#x27;posibilitate_parcare&#x27;])],\n",
       "                                   verbose_feature_names_out=False)),\n",
       "                (&#x27;area&#x27;,\n",
       "                 ColumnTransformer(remainder=&#x27;passthrough&#x27;,\n",
       "                                   transformers=[(&#x27;functiontransformer&#x27;,\n",
       "                                                  FunctionTransformer(func=&lt;function fe_area_ratio at 0x11d3884a0&gt;),\n",
       "                                                  [&#x27;suprafata_utila&#x27;,\n",
       "                                                   &#x27;suprafata_teren&#x27;])],\n",
       "                                   verbose_feature_names_out=False))])</pre></div></div></div><div class=\"sk-serial\"><div class=\"sk-item sk-dashed-wrapped\"><div class=\"sk-label-container\"><div class=\"sk-label sk-toggleable\"><input class=\"sk-toggleable__control sk-hidden--visually\" id=\"sk-estimator-id-14\" type=\"checkbox\" ><label for=\"sk-estimator-id-14\" class=\"sk-toggleable__label sk-toggleable__label-arrow\">column: ColumnTransformer</label><div class=\"sk-toggleable__content\"><pre>ColumnTransformer(remainder=&#x27;passthrough&#x27;,\n",
       "                  transformers=[(&#x27;functiontransformer-1&#x27;,\n",
       "                                 FunctionTransformer(func=&lt;function select_counties at 0x11d2fca40&gt;),\n",
       "                                 [&#x27;county&#x27;]),\n",
       "                                (&#x27;functiontransformer-2&#x27;,\n",
       "                                 FunctionTransformer(func=&lt;function is_central at 0x11d388220&gt;),\n",
       "                                 [&#x27;zona&#x27;])],\n",
       "                  verbose_feature_names_out=False)</pre></div></div></div><div class=\"sk-parallel\"><div class=\"sk-parallel-item\"><div class=\"sk-item\"><div class=\"sk-label-container\"><div class=\"sk-label sk-toggleable\"><input class=\"sk-toggleable__control sk-hidden--visually\" id=\"sk-estimator-id-15\" type=\"checkbox\" ><label for=\"sk-estimator-id-15\" class=\"sk-toggleable__label sk-toggleable__label-arrow\">functiontransformer-1</label><div class=\"sk-toggleable__content\"><pre>[&#x27;county&#x27;]</pre></div></div></div><div class=\"sk-serial\"><div class=\"sk-item\"><div class=\"sk-estimator sk-toggleable\"><input class=\"sk-toggleable__control sk-hidden--visually\" id=\"sk-estimator-id-16\" type=\"checkbox\" ><label for=\"sk-estimator-id-16\" class=\"sk-toggleable__label sk-toggleable__label-arrow\">FunctionTransformer</label><div class=\"sk-toggleable__content\"><pre>FunctionTransformer(func=&lt;function select_counties at 0x11d2fca40&gt;)</pre></div></div></div></div></div></div><div class=\"sk-parallel-item\"><div class=\"sk-item\"><div class=\"sk-label-container\"><div class=\"sk-label sk-toggleable\"><input class=\"sk-toggleable__control sk-hidden--visually\" id=\"sk-estimator-id-17\" type=\"checkbox\" ><label for=\"sk-estimator-id-17\" class=\"sk-toggleable__label sk-toggleable__label-arrow\">functiontransformer-2</label><div class=\"sk-toggleable__content\"><pre>[&#x27;zona&#x27;]</pre></div></div></div><div class=\"sk-serial\"><div class=\"sk-item\"><div class=\"sk-estimator sk-toggleable\"><input class=\"sk-toggleable__control sk-hidden--visually\" id=\"sk-estimator-id-18\" type=\"checkbox\" ><label for=\"sk-estimator-id-18\" class=\"sk-toggleable__label sk-toggleable__label-arrow\">FunctionTransformer</label><div class=\"sk-toggleable__content\"><pre>FunctionTransformer(func=&lt;function is_central at 0x11d388220&gt;)</pre></div></div></div></div></div></div><div class=\"sk-parallel-item\"><div class=\"sk-item\"><div class=\"sk-label-container\"><div class=\"sk-label sk-toggleable\"><input class=\"sk-toggleable__control sk-hidden--visually\" id=\"sk-estimator-id-19\" type=\"checkbox\" ><label for=\"sk-estimator-id-19\" class=\"sk-toggleable__label sk-toggleable__label-arrow\">remainder</label><div class=\"sk-toggleable__content\"><pre>[&#x27;property_type&#x27;, &#x27;suprafata_utila&#x27;, &#x27;suprafata_teren&#x27;, &#x27;posibilitate_parcare&#x27;, &#x27;nr_locuri_parcare&#x27;, &#x27;numar_camere&#x27;, &#x27;numar_bai&#x27;, &#x27;an_finalizare_constructie&#x27;]</pre></div></div></div><div class=\"sk-serial\"><div class=\"sk-item\"><div class=\"sk-estimator sk-toggleable\"><input class=\"sk-toggleable__control sk-hidden--visually\" id=\"sk-estimator-id-20\" type=\"checkbox\" ><label for=\"sk-estimator-id-20\" class=\"sk-toggleable__label sk-toggleable__label-arrow\">passthrough</label><div class=\"sk-toggleable__content\"><pre>passthrough</pre></div></div></div></div></div></div></div></div><div class=\"sk-item sk-dashed-wrapped\"><div class=\"sk-label-container\"><div class=\"sk-label sk-toggleable\"><input class=\"sk-toggleable__control sk-hidden--visually\" id=\"sk-estimator-id-21\" type=\"checkbox\" ><label for=\"sk-estimator-id-21\" class=\"sk-toggleable__label sk-toggleable__label-arrow\">feature_transformer: ColumnTransformer</label><div class=\"sk-toggleable__content\"><pre>ColumnTransformer(transformers=[(&#x27;pipeline-1&#x27;,\n",
       "                                 Pipeline(steps=[(&#x27;simpleimputer&#x27;,\n",
       "                                                  SimpleImputer(strategy=&#x27;median&#x27;))]),\n",
       "                                 [&#x27;suprafata_utila&#x27;, &#x27;suprafata_teren&#x27;,\n",
       "                                  &#x27;nr_locuri_parcare&#x27;, &#x27;numar_camere&#x27;,\n",
       "                                  &#x27;numar_bai&#x27;, &#x27;an_finalizare_constructie&#x27;]),\n",
       "                                (&#x27;pipeline-2&#x27;,\n",
       "                                 Pipeline(steps=[(&#x27;simpleimputer&#x27;,\n",
       "                                                  SimpleImputer(fill_value=&#x27;missing&#x27;,\n",
       "                                                                strategy=&#x27;constant&#x27;)),\n",
       "                                                 (&#x27;onehotencoder&#x27;,\n",
       "                                                  OneHotEncoder(drop=&#x27;first&#x27;,\n",
       "                                                                sparse_output=False))]),\n",
       "                                 [&#x27;property_type&#x27;, &#x27;county&#x27;, &#x27;zona&#x27;,\n",
       "                                  &#x27;posibilitate_parcare&#x27;])],\n",
       "                  verbose_feature_names_out=False)</pre></div></div></div><div class=\"sk-parallel\"><div class=\"sk-parallel-item\"><div class=\"sk-item\"><div class=\"sk-label-container\"><div class=\"sk-label sk-toggleable\"><input class=\"sk-toggleable__control sk-hidden--visually\" id=\"sk-estimator-id-22\" type=\"checkbox\" ><label for=\"sk-estimator-id-22\" class=\"sk-toggleable__label sk-toggleable__label-arrow\">pipeline-1</label><div class=\"sk-toggleable__content\"><pre>[&#x27;suprafata_utila&#x27;, &#x27;suprafata_teren&#x27;, &#x27;nr_locuri_parcare&#x27;, &#x27;numar_camere&#x27;, &#x27;numar_bai&#x27;, &#x27;an_finalizare_constructie&#x27;]</pre></div></div></div><div class=\"sk-serial\"><div class=\"sk-item\"><div class=\"sk-serial\"><div class=\"sk-item\"><div class=\"sk-estimator sk-toggleable\"><input class=\"sk-toggleable__control sk-hidden--visually\" id=\"sk-estimator-id-23\" type=\"checkbox\" ><label for=\"sk-estimator-id-23\" class=\"sk-toggleable__label sk-toggleable__label-arrow\">SimpleImputer</label><div class=\"sk-toggleable__content\"><pre>SimpleImputer(strategy=&#x27;median&#x27;)</pre></div></div></div></div></div></div></div></div><div class=\"sk-parallel-item\"><div class=\"sk-item\"><div class=\"sk-label-container\"><div class=\"sk-label sk-toggleable\"><input class=\"sk-toggleable__control sk-hidden--visually\" id=\"sk-estimator-id-24\" type=\"checkbox\" ><label for=\"sk-estimator-id-24\" class=\"sk-toggleable__label sk-toggleable__label-arrow\">pipeline-2</label><div class=\"sk-toggleable__content\"><pre>[&#x27;property_type&#x27;, &#x27;county&#x27;, &#x27;zona&#x27;, &#x27;posibilitate_parcare&#x27;]</pre></div></div></div><div class=\"sk-serial\"><div class=\"sk-item\"><div class=\"sk-serial\"><div class=\"sk-item\"><div class=\"sk-estimator sk-toggleable\"><input class=\"sk-toggleable__control sk-hidden--visually\" id=\"sk-estimator-id-25\" type=\"checkbox\" ><label for=\"sk-estimator-id-25\" class=\"sk-toggleable__label sk-toggleable__label-arrow\">SimpleImputer</label><div class=\"sk-toggleable__content\"><pre>SimpleImputer(fill_value=&#x27;missing&#x27;, strategy=&#x27;constant&#x27;)</pre></div></div></div><div class=\"sk-item\"><div class=\"sk-estimator sk-toggleable\"><input class=\"sk-toggleable__control sk-hidden--visually\" id=\"sk-estimator-id-26\" type=\"checkbox\" ><label for=\"sk-estimator-id-26\" class=\"sk-toggleable__label sk-toggleable__label-arrow\">OneHotEncoder</label><div class=\"sk-toggleable__content\"><pre>OneHotEncoder(drop=&#x27;first&#x27;, sparse_output=False)</pre></div></div></div></div></div></div></div></div></div></div><div class=\"sk-item sk-dashed-wrapped\"><div class=\"sk-label-container\"><div class=\"sk-label sk-toggleable\"><input class=\"sk-toggleable__control sk-hidden--visually\" id=\"sk-estimator-id-27\" type=\"checkbox\" ><label for=\"sk-estimator-id-27\" class=\"sk-toggleable__label sk-toggleable__label-arrow\">area: ColumnTransformer</label><div class=\"sk-toggleable__content\"><pre>ColumnTransformer(remainder=&#x27;passthrough&#x27;,\n",
       "                  transformers=[(&#x27;functiontransformer&#x27;,\n",
       "                                 FunctionTransformer(func=&lt;function fe_area_ratio at 0x11d3884a0&gt;),\n",
       "                                 [&#x27;suprafata_utila&#x27;, &#x27;suprafata_teren&#x27;])],\n",
       "                  verbose_feature_names_out=False)</pre></div></div></div><div class=\"sk-parallel\"><div class=\"sk-parallel-item\"><div class=\"sk-item\"><div class=\"sk-label-container\"><div class=\"sk-label sk-toggleable\"><input class=\"sk-toggleable__control sk-hidden--visually\" id=\"sk-estimator-id-28\" type=\"checkbox\" ><label for=\"sk-estimator-id-28\" class=\"sk-toggleable__label sk-toggleable__label-arrow\">functiontransformer</label><div class=\"sk-toggleable__content\"><pre>[&#x27;suprafata_utila&#x27;, &#x27;suprafata_teren&#x27;]</pre></div></div></div><div class=\"sk-serial\"><div class=\"sk-item\"><div class=\"sk-estimator sk-toggleable\"><input class=\"sk-toggleable__control sk-hidden--visually\" id=\"sk-estimator-id-29\" type=\"checkbox\" ><label for=\"sk-estimator-id-29\" class=\"sk-toggleable__label sk-toggleable__label-arrow\">FunctionTransformer</label><div class=\"sk-toggleable__content\"><pre>FunctionTransformer(func=&lt;function fe_area_ratio at 0x11d3884a0&gt;)</pre></div></div></div></div></div></div><div class=\"sk-parallel-item\"><div class=\"sk-item\"><div class=\"sk-label-container\"><div class=\"sk-label sk-toggleable\"><input class=\"sk-toggleable__control sk-hidden--visually\" id=\"sk-estimator-id-30\" type=\"checkbox\" ><label for=\"sk-estimator-id-30\" class=\"sk-toggleable__label sk-toggleable__label-arrow\">remainder</label><div class=\"sk-toggleable__content\"><pre>[&#x27;nr_locuri_parcare&#x27;, &#x27;numar_camere&#x27;, &#x27;numar_bai&#x27;, &#x27;an_finalizare_constructie&#x27;, &#x27;property_type_house&#x27;, &#x27;county_Arad&#x27;, &#x27;county_Braila&#x27;, &#x27;county_Brasov&#x27;, &#x27;county_Bucuresti-Ilfov&#x27;, &#x27;county_Cluj&#x27;, &#x27;county_Constanta&#x27;, &#x27;county_Iasi&#x27;, &#x27;county_Other&#x27;, &#x27;county_Sibiu&#x27;, &#x27;county_Timis&#x27;, &#x27;zona_Nu&#x27;, &#x27;posibilitate_parcare_Da&#x27;, &#x27;posibilitate_parcare_Nu&#x27;, &#x27;posibilitate_parcare_None&#x27;]</pre></div></div></div><div class=\"sk-serial\"><div class=\"sk-item\"><div class=\"sk-estimator sk-toggleable\"><input class=\"sk-toggleable__control sk-hidden--visually\" id=\"sk-estimator-id-31\" type=\"checkbox\" ><label for=\"sk-estimator-id-31\" class=\"sk-toggleable__label sk-toggleable__label-arrow\">passthrough</label><div class=\"sk-toggleable__content\"><pre>passthrough</pre></div></div></div></div></div></div></div></div></div></div></div></div>"
      ],
      "text/plain": [
       "Pipeline(steps=[('column',\n",
       "                 ColumnTransformer(remainder='passthrough',\n",
       "                                   transformers=[('functiontransformer-1',\n",
       "                                                  FunctionTransformer(func=<function select_counties at 0x11d2fca40>),\n",
       "                                                  ['county']),\n",
       "                                                 ('functiontransformer-2',\n",
       "                                                  FunctionTransformer(func=<function is_central at 0x11d388220>),\n",
       "                                                  ['zona'])],\n",
       "                                   verbose_feature_names_out=False)),\n",
       "                ('feature_transformer',\n",
       "                 ColumnTransfo...\n",
       "                                                                   OneHotEncoder(drop='first',\n",
       "                                                                                 sparse_output=False))]),\n",
       "                                                  ['property_type', 'county',\n",
       "                                                   'zona',\n",
       "                                                   'posibilitate_parcare'])],\n",
       "                                   verbose_feature_names_out=False)),\n",
       "                ('area',\n",
       "                 ColumnTransformer(remainder='passthrough',\n",
       "                                   transformers=[('functiontransformer',\n",
       "                                                  FunctionTransformer(func=<function fe_area_ratio at 0x11d3884a0>),\n",
       "                                                  ['suprafata_utila',\n",
       "                                                   'suprafata_teren'])],\n",
       "                                   verbose_feature_names_out=False))])"
      ]
     },
     "execution_count": 24,
     "metadata": {},
     "output_type": "execute_result"
    }
   ],
   "source": [
    "ridge_reg_transformation_pipe = Pipeline(\n",
    "    [\n",
    "        (\"column\", column_transformer),\n",
    "        (\"feature_transformer\", numeric_categorical_transformer),\n",
    "        (\"area\", pos_processing)\n",
    "    ]\n",
    ")\n",
    "ridge_reg_transformation_pipe.set_output(transform = 'pandas')"
   ]
  },
  {
   "cell_type": "code",
   "execution_count": 25,
   "id": "b6a5ad0b-e51d-4da5-bd7a-db0314bfb6e3",
   "metadata": {},
   "outputs": [],
   "source": [
    "X_train_transformed = ridge_reg_transformation_pipe.fit_transform(X_train)"
   ]
  },
  {
   "cell_type": "code",
   "execution_count": 26,
   "id": "e3e75bc0-d865-4526-8f63-a7d2e2e74e81",
   "metadata": {},
   "outputs": [],
   "source": [
    "from sklearn.linear_model import RidgeCV\n",
    "# Define a range of alpha values to try\n",
    "alphas = np.arange(0.1, 10, 0.1)\n",
    "\n",
    "# Create RidgeCV with the alpha values\n",
    "ridge_cv = RidgeCV(alphas=alphas, store_cv_values=True)\n",
    "\n",
    "# Perform cross-validation\n",
    "cross_val_scores = cross_val_score(ridge_cv, X_train_transformed, y_train, cv=5, scoring='neg_mean_absolute_percentage_error')\n",
    "\n",
    "ridge_cv.fit(X_train_transformed, y_train)\n",
    "\n",
    "# Access the best alpha\n",
    "\n",
    "best_alpha = ridge_cv.alpha_"
   ]
  },
  {
   "cell_type": "markdown",
   "id": "8556c428-d9c3-46b5-b186-6f668c4c9244",
   "metadata": {},
   "source": [
    "This is the baseline MAPE:"
   ]
  },
  {
   "cell_type": "code",
   "execution_count": 27,
   "id": "af455d42-4e6a-4f41-a1d0-4b7fda2cd00b",
   "metadata": {},
   "outputs": [
    {
     "data": {
      "text/plain": [
       "-0.2614832333567649"
      ]
     },
     "execution_count": 27,
     "metadata": {},
     "output_type": "execute_result"
    }
   ],
   "source": [
    "cross_val_scores.mean()"
   ]
  },
  {
   "cell_type": "markdown",
   "id": "51e851f2-f975-496c-b07f-ccfd0ed37e91",
   "metadata": {
    "jp-MarkdownHeadingCollapsed": true
   },
   "source": [
    "### Baseline XGBoost"
   ]
  },
  {
   "cell_type": "code",
   "execution_count": null,
   "id": "6176d0d9-5da8-415a-bfe8-c431ae6c5f0a",
   "metadata": {
    "scrolled": true
   },
   "outputs": [],
   "source": [
    "# Instantiate the XGBRegressor: xg_reg\n",
    "xg_reg = xgb.XGBRegressor(\n",
    "    n_estimators = 10,\n",
    "    seed = 123,\n",
    "    objective = 'reg:squarederror',\n",
    "    booster=\"gbtree\"\n",
    ")\n",
    "\n",
    "# Fit the regressor to the training set\n",
    "xg_reg.fit(X_train_transformed, y_train)\n",
    "\n",
    "# Predict the labels of the test set: preds\n",
    "preds = xg_reg.predict(X_test_transformed)\n",
    "\n",
    "# Compute the rmse: rmse\n",
    "rmse = np.sqrt(mean_squared_error(y_test, preds))\n",
    "print(\"RMSE: %f\" % (rmse))\n",
    "mape = mean_absolute_percentage_error(y_test, preds)\n",
    "print(\"MAPE: {mape}\".format(mape = mape))\n",
    "\n",
    "msle = mean_squared_log_error(y_test, preds)\n",
    "print(\"MSLE: {msle}\".format(msle = msle))"
   ]
  },
  {
   "cell_type": "code",
   "execution_count": null,
   "id": "0f756a13-cb2a-4c52-b967-2191a290b711",
   "metadata": {},
   "outputs": [],
   "source": [
    "# Convert the training and testing sets into DMatrixes: DM_train, DM_test\n",
    "DM_train = xgb.DMatrix(data = X_train_transformed, label = y_train)\n",
    "DM_test =  xgb.DMatrix(data = X_test_transformed, label = y_test)"
   ]
  },
  {
   "cell_type": "code",
   "execution_count": null,
   "id": "57eaca1e-9967-4198-adc8-aaccc3d74509",
   "metadata": {},
   "outputs": [],
   "source": [
    "DM_train.feature_names"
   ]
  },
  {
   "cell_type": "code",
   "execution_count": null,
   "id": "3f8de690-da91-468c-8e1c-7c1bda1359b2",
   "metadata": {},
   "outputs": [],
   "source": [
    "# Create the DMatrix: housing_dmatrix\n",
    "#housing_dmatrix = xgb.DMatrix(data=X, label=y)\n",
    "\n",
    "# Create the parameter dictionary: params\n",
    "params = {\"objective\":\"reg:squarederror\", \"max_depth\":5}\n",
    "\n",
    "# Perform cross-validation: cv_results\n",
    "cv_results = xgb.cv(\n",
    "    dtrain=DM_train, \n",
    "    params=params, \n",
    "    nfold=4, \n",
    "    num_boost_round=1000,\n",
    "    early_stopping_rounds = 10, #Early stop prevents overfitting\n",
    "    metrics=\"mape\", \n",
    "    as_pandas=True, \n",
    "    seed=123)\n",
    "\n",
    "# Print cv_results\n",
    "print(cv_results)\n",
    "\n",
    "# Extract and print final boosting round metric\n",
    "print((cv_results[\"test-mape-mean\"]).tail(1))\n",
    "\n",
    "# TODO: Add % variation from one round compared to the previous\n",
    "\n",
    "cv_results.loc[:, [\"train-mape-mean\", \"test-mape-mean\"]].plot()"
   ]
  },
  {
   "cell_type": "code",
   "execution_count": null,
   "id": "7bc23af6-640f-4dd4-ab1a-7a23d46f2005",
   "metadata": {},
   "outputs": [],
   "source": [
    "# Plot the feature importances\n",
    "xgb.plot_importance(xg_reg)\n",
    "plt.show()"
   ]
  },
  {
   "cell_type": "markdown",
   "id": "fab5c5ef-fb84-40d8-8941-956f5da2b152",
   "metadata": {},
   "source": [
    "# Modeling "
   ]
  },
  {
   "cell_type": "markdown",
   "id": "314db91e-4475-44bc-afa5-93a3ed322342",
   "metadata": {},
   "source": [
    "## XGBosst Random Search"
   ]
  },
  {
   "cell_type": "code",
   "execution_count": null,
   "id": "b3882d07-32fe-4387-9bbe-7aa9b4402a3f",
   "metadata": {},
   "outputs": [],
   "source": [
    "# Makes a copy of the transformation pipeline\n",
    "xgb_pipeline = copy.deepcopy(transformation_pipe)\n",
    "\n",
    "# Appends estimator\n",
    "xgb_pipeline.steps.append([\"xgb_reg\", xgb.XGBRegressor(booster=\"gbtree\", seed = 123)])\n",
    "\n",
    "# Create the parameter grid\n",
    "gbm_param_grid = {\n",
    "    'xgb_reg__learning_rate': np.arange(0.01, 0.5, 0.025),\n",
    "    'xgb_reg__max_depth': range(3, 11, 2),\n",
    "    'xgb_reg__n_estimators': range(5, 205, 10),\n",
    "    #'xgb_reg__colsample_bytree': np.arange(0.25, 1.25, 0.25),\n",
    "    'xgb_reg__lambda': np.arange(0.05, 1, 0.05),\n",
    "    'xgb_reg__subsample': np.arange(0.5, 1, 0.1)\n",
    "}"
   ]
  },
  {
   "cell_type": "code",
   "execution_count": null,
   "id": "351dd39f-e850-4b58-ac62-c0c909bfaf08",
   "metadata": {},
   "outputs": [],
   "source": [
    "# Number of folds\n",
    "nr_of_folds = 2\n",
    "\n",
    "# Total number of fits if all combinations are fitted\n",
    "np.prod([len(v) for v in gbm_param_grid.values()]) * nr_of_folds"
   ]
  },
  {
   "cell_type": "code",
   "execution_count": null,
   "id": "8574a176-0d4e-464d-8b1f-7e4070779dfe",
   "metadata": {},
   "outputs": [],
   "source": [
    "\n",
    "# Perform RandomizedSearchCV\n",
    "randomized_mape= RandomizedSearchCV(\n",
    "    estimator = xgb_pipeline, \n",
    "    param_distributions = gbm_param_grid,\n",
    "    n_iter = 300,\n",
    "    cv = nr_of_folds,\n",
    "    scoring = \"neg_mean_absolute_percentage_error\",\n",
    "    verbose = 1\n",
    ")\n",
    "\n",
    "# Fit the estimator\n",
    "randomized_mape.fit(X_train, y_train)"
   ]
  },
  {
   "cell_type": "code",
   "execution_count": null,
   "id": "d38bf1bd-aec6-43b8-8da4-dcd275309728",
   "metadata": {},
   "outputs": [],
   "source": [
    "pd.DataFrame(randomized_mape.cv_results_).sort_values('mean_test_score')"
   ]
  },
  {
   "cell_type": "code",
   "execution_count": null,
   "id": "43184c51-e28b-4f9c-81b5-a98c6069022e",
   "metadata": {},
   "outputs": [],
   "source": [
    "# Compute metrics\n",
    "print(randomized_mape.best_score_)\n",
    "print(randomized_mape.best_estimator_)"
   ]
  },
  {
   "cell_type": "code",
   "execution_count": null,
   "id": "c1a9302c-3da6-46ef-a4bc-5585932df437",
   "metadata": {},
   "outputs": [],
   "source": [
    "best_parms = dict(zip([i.split('__')[1] for i in randomized_mape.best_params_.keys()], randomized_mape.best_params_.values()))"
   ]
  },
  {
   "cell_type": "code",
   "execution_count": null,
   "id": "835f3fb8-ddc7-4b8c-9148-811c5c8ad550",
   "metadata": {},
   "outputs": [],
   "source": [
    "params = best_parms.copy()"
   ]
  },
  {
   "cell_type": "code",
   "execution_count": null,
   "id": "ad26173a-e966-4d8a-b045-35702b04dcb5",
   "metadata": {},
   "outputs": [],
   "source": [
    "params[\"objective\"] = \"reg:squarederror\""
   ]
  },
  {
   "cell_type": "code",
   "execution_count": null,
   "id": "c01cd9bf-f083-48aa-a4a0-c032934ef18c",
   "metadata": {},
   "outputs": [],
   "source": [
    "params.pop('n_estimators')"
   ]
  },
  {
   "cell_type": "code",
   "execution_count": null,
   "id": "0aaf49ea-f573-468e-96cd-eaa369e6b371",
   "metadata": {},
   "outputs": [],
   "source": [
    "best_parms"
   ]
  },
  {
   "cell_type": "code",
   "execution_count": null,
   "id": "13759319-b8da-45e9-b04f-f5f46cdf207d",
   "metadata": {},
   "outputs": [],
   "source": [
    "params"
   ]
  },
  {
   "cell_type": "code",
   "execution_count": null,
   "id": "fc9b9c71-15cc-4e44-a38d-7ae4c3de7b4b",
   "metadata": {},
   "outputs": [],
   "source": [
    "# Create the DMatrix: housing_dmatrix\n",
    "#housing_dmatrix = xgb.DMatrix(data=X, label=y)\n",
    "\n",
    "# Create the parameter dictionary: params\n",
    "#params = {\"objective\":\"reg:squarederror\", \"max_depth\":5}\n",
    "\n",
    "# Perform cross-validation: cv_results\n",
    "cv_results = xgb.cv(\n",
    "    dtrain=DM_train, \n",
    "    params=params, \n",
    "    nfold=5, \n",
    "    num_boost_round=100,\n",
    "    early_stopping_rounds = 2, #Early stop prevents overfitting\n",
    "    metrics=\"mape\", \n",
    "    as_pandas=True, \n",
    "    seed=123)\n",
    "\n",
    "# Print cv_results\n",
    "print(cv_results)\n",
    "\n",
    "# Extract and print final boosting round metric\n",
    "print((cv_results[\"test-mape-mean\"]).tail(1))\n",
    "\n",
    "# TODO: Add % variation from one round compared to the previous\n",
    "\n",
    "cv_results.loc[:, [\"train-mape-mean\", \"test-mape-mean\"]].plot()"
   ]
  },
  {
   "cell_type": "code",
   "execution_count": null,
   "id": "86322513-d546-4ddc-b1c3-b7148462d331",
   "metadata": {},
   "outputs": [],
   "source": [
    "best_parms"
   ]
  },
  {
   "cell_type": "code",
   "execution_count": null,
   "id": "de17e78b-132c-48f1-aea3-f177c4ce1a7e",
   "metadata": {},
   "outputs": [],
   "source": [
    "best_parms['n_estimators'] = cv_results.shape[0]"
   ]
  },
  {
   "cell_type": "markdown",
   "id": "d3e7ea47-974d-4350-9254-e02b66009328",
   "metadata": {},
   "source": [
    "### Final Model"
   ]
  },
  {
   "cell_type": "code",
   "execution_count": 28,
   "id": "15165e9c-f1c9-4f8e-8788-6422e96642ce",
   "metadata": {},
   "outputs": [
    {
     "name": "stdout",
     "output_type": "stream",
     "text": [
      "{'subsample': 0.7, 'n_estimators': 70, 'max_depth': 9, 'learning_rate': 0.035, 'lambda': 0.4}\n"
     ]
    }
   ],
   "source": [
    "#best_parms = pickle.load(open('../models/ml/best_parms.pkl', 'rb'))\n",
    "#print(best_parms)\n",
    "best_parms = pickle.load(open('../models/ml/xgb_best_parms.pkl', 'rb'))\n",
    "print(best_parms)"
   ]
  },
  {
   "cell_type": "code",
   "execution_count": 29,
   "id": "55015772-7a53-4376-a982-0238e1def559",
   "metadata": {},
   "outputs": [],
   "source": [
    "xgb_reg_model = Pipeline(\n",
    "    [\n",
    "        (\"columns_transformers\", column_transformer),\n",
    "        (\"feature_transformer\", numeric_categorical_transformer),\n",
    "        (\"area\", pos_processing),\n",
    "        (\"xgb_reg\", xgb.XGBRegressor(booster=\"gbtree\", **best_parms))\n",
    "    ]\n",
    ")"
   ]
  },
  {
   "cell_type": "code",
   "execution_count": 30,
   "id": "da95665b-415d-4e2e-b9a5-826dbe026947",
   "metadata": {},
   "outputs": [
    {
     "data": {
      "text/html": [
       "<style>#sk-container-id-4 {color: black;}#sk-container-id-4 pre{padding: 0;}#sk-container-id-4 div.sk-toggleable {background-color: white;}#sk-container-id-4 label.sk-toggleable__label {cursor: pointer;display: block;width: 100%;margin-bottom: 0;padding: 0.3em;box-sizing: border-box;text-align: center;}#sk-container-id-4 label.sk-toggleable__label-arrow:before {content: \"▸\";float: left;margin-right: 0.25em;color: #696969;}#sk-container-id-4 label.sk-toggleable__label-arrow:hover:before {color: black;}#sk-container-id-4 div.sk-estimator:hover label.sk-toggleable__label-arrow:before {color: black;}#sk-container-id-4 div.sk-toggleable__content {max-height: 0;max-width: 0;overflow: hidden;text-align: left;background-color: #f0f8ff;}#sk-container-id-4 div.sk-toggleable__content pre {margin: 0.2em;color: black;border-radius: 0.25em;background-color: #f0f8ff;}#sk-container-id-4 input.sk-toggleable__control:checked~div.sk-toggleable__content {max-height: 200px;max-width: 100%;overflow: auto;}#sk-container-id-4 input.sk-toggleable__control:checked~label.sk-toggleable__label-arrow:before {content: \"▾\";}#sk-container-id-4 div.sk-estimator input.sk-toggleable__control:checked~label.sk-toggleable__label {background-color: #d4ebff;}#sk-container-id-4 div.sk-label input.sk-toggleable__control:checked~label.sk-toggleable__label {background-color: #d4ebff;}#sk-container-id-4 input.sk-hidden--visually {border: 0;clip: rect(1px 1px 1px 1px);clip: rect(1px, 1px, 1px, 1px);height: 1px;margin: -1px;overflow: hidden;padding: 0;position: absolute;width: 1px;}#sk-container-id-4 div.sk-estimator {font-family: monospace;background-color: #f0f8ff;border: 1px dotted black;border-radius: 0.25em;box-sizing: border-box;margin-bottom: 0.5em;}#sk-container-id-4 div.sk-estimator:hover {background-color: #d4ebff;}#sk-container-id-4 div.sk-parallel-item::after {content: \"\";width: 100%;border-bottom: 1px solid gray;flex-grow: 1;}#sk-container-id-4 div.sk-label:hover label.sk-toggleable__label {background-color: #d4ebff;}#sk-container-id-4 div.sk-serial::before {content: \"\";position: absolute;border-left: 1px solid gray;box-sizing: border-box;top: 0;bottom: 0;left: 50%;z-index: 0;}#sk-container-id-4 div.sk-serial {display: flex;flex-direction: column;align-items: center;background-color: white;padding-right: 0.2em;padding-left: 0.2em;position: relative;}#sk-container-id-4 div.sk-item {position: relative;z-index: 1;}#sk-container-id-4 div.sk-parallel {display: flex;align-items: stretch;justify-content: center;background-color: white;position: relative;}#sk-container-id-4 div.sk-item::before, #sk-container-id-4 div.sk-parallel-item::before {content: \"\";position: absolute;border-left: 1px solid gray;box-sizing: border-box;top: 0;bottom: 0;left: 50%;z-index: -1;}#sk-container-id-4 div.sk-parallel-item {display: flex;flex-direction: column;z-index: 1;position: relative;background-color: white;}#sk-container-id-4 div.sk-parallel-item:first-child::after {align-self: flex-end;width: 50%;}#sk-container-id-4 div.sk-parallel-item:last-child::after {align-self: flex-start;width: 50%;}#sk-container-id-4 div.sk-parallel-item:only-child::after {width: 0;}#sk-container-id-4 div.sk-dashed-wrapped {border: 1px dashed gray;margin: 0 0.4em 0.5em 0.4em;box-sizing: border-box;padding-bottom: 0.4em;background-color: white;}#sk-container-id-4 div.sk-label label {font-family: monospace;font-weight: bold;display: inline-block;line-height: 1.2em;}#sk-container-id-4 div.sk-label-container {text-align: center;}#sk-container-id-4 div.sk-container {/* jupyter's `normalize.less` sets `[hidden] { display: none; }` but bootstrap.min.css set `[hidden] { display: none !important; }` so we also need the `!important` here to be able to override the default hidden behavior on the sphinx rendered scikit-learn.org. See: https://github.com/scikit-learn/scikit-learn/issues/21755 */display: inline-block !important;position: relative;}#sk-container-id-4 div.sk-text-repr-fallback {display: none;}</style><div id=\"sk-container-id-4\" class=\"sk-top-container\"><div class=\"sk-text-repr-fallback\"><pre>Pipeline(steps=[(&#x27;columns_transformers&#x27;,\n",
       "                 ColumnTransformer(remainder=&#x27;passthrough&#x27;,\n",
       "                                   transformers=[(&#x27;functiontransformer-1&#x27;,\n",
       "                                                  FunctionTransformer(func=&lt;function select_counties at 0x11d2fca40&gt;),\n",
       "                                                  [&#x27;county&#x27;]),\n",
       "                                                 (&#x27;functiontransformer-2&#x27;,\n",
       "                                                  FunctionTransformer(func=&lt;function is_central at 0x11d388220&gt;),\n",
       "                                                  [&#x27;zona&#x27;])],\n",
       "                                   verbose_feature_names_out=False)),\n",
       "                (&#x27;feature_transformer&#x27;...\n",
       "                              feature_types=None, gamma=None, gpu_id=None,\n",
       "                              grow_policy=None, importance_type=None,\n",
       "                              interaction_constraints=None, lambda=0.4,\n",
       "                              learning_rate=0.035, max_bin=None,\n",
       "                              max_cat_threshold=None, max_cat_to_onehot=None,\n",
       "                              max_delta_step=None, max_depth=9, max_leaves=None,\n",
       "                              min_child_weight=None, missing=nan,\n",
       "                              monotone_constraints=None, n_estimators=70,\n",
       "                              n_jobs=None, num_parallel_tree=None,\n",
       "                              predictor=None, ...))])</pre><b>In a Jupyter environment, please rerun this cell to show the HTML representation or trust the notebook. <br />On GitHub, the HTML representation is unable to render, please try loading this page with nbviewer.org.</b></div><div class=\"sk-container\" hidden><div class=\"sk-item sk-dashed-wrapped\"><div class=\"sk-label-container\"><div class=\"sk-label sk-toggleable\"><input class=\"sk-toggleable__control sk-hidden--visually\" id=\"sk-estimator-id-32\" type=\"checkbox\" ><label for=\"sk-estimator-id-32\" class=\"sk-toggleable__label sk-toggleable__label-arrow\">Pipeline</label><div class=\"sk-toggleable__content\"><pre>Pipeline(steps=[(&#x27;columns_transformers&#x27;,\n",
       "                 ColumnTransformer(remainder=&#x27;passthrough&#x27;,\n",
       "                                   transformers=[(&#x27;functiontransformer-1&#x27;,\n",
       "                                                  FunctionTransformer(func=&lt;function select_counties at 0x11d2fca40&gt;),\n",
       "                                                  [&#x27;county&#x27;]),\n",
       "                                                 (&#x27;functiontransformer-2&#x27;,\n",
       "                                                  FunctionTransformer(func=&lt;function is_central at 0x11d388220&gt;),\n",
       "                                                  [&#x27;zona&#x27;])],\n",
       "                                   verbose_feature_names_out=False)),\n",
       "                (&#x27;feature_transformer&#x27;...\n",
       "                              feature_types=None, gamma=None, gpu_id=None,\n",
       "                              grow_policy=None, importance_type=None,\n",
       "                              interaction_constraints=None, lambda=0.4,\n",
       "                              learning_rate=0.035, max_bin=None,\n",
       "                              max_cat_threshold=None, max_cat_to_onehot=None,\n",
       "                              max_delta_step=None, max_depth=9, max_leaves=None,\n",
       "                              min_child_weight=None, missing=nan,\n",
       "                              monotone_constraints=None, n_estimators=70,\n",
       "                              n_jobs=None, num_parallel_tree=None,\n",
       "                              predictor=None, ...))])</pre></div></div></div><div class=\"sk-serial\"><div class=\"sk-item sk-dashed-wrapped\"><div class=\"sk-label-container\"><div class=\"sk-label sk-toggleable\"><input class=\"sk-toggleable__control sk-hidden--visually\" id=\"sk-estimator-id-33\" type=\"checkbox\" ><label for=\"sk-estimator-id-33\" class=\"sk-toggleable__label sk-toggleable__label-arrow\">columns_transformers: ColumnTransformer</label><div class=\"sk-toggleable__content\"><pre>ColumnTransformer(remainder=&#x27;passthrough&#x27;,\n",
       "                  transformers=[(&#x27;functiontransformer-1&#x27;,\n",
       "                                 FunctionTransformer(func=&lt;function select_counties at 0x11d2fca40&gt;),\n",
       "                                 [&#x27;county&#x27;]),\n",
       "                                (&#x27;functiontransformer-2&#x27;,\n",
       "                                 FunctionTransformer(func=&lt;function is_central at 0x11d388220&gt;),\n",
       "                                 [&#x27;zona&#x27;])],\n",
       "                  verbose_feature_names_out=False)</pre></div></div></div><div class=\"sk-parallel\"><div class=\"sk-parallel-item\"><div class=\"sk-item\"><div class=\"sk-label-container\"><div class=\"sk-label sk-toggleable\"><input class=\"sk-toggleable__control sk-hidden--visually\" id=\"sk-estimator-id-34\" type=\"checkbox\" ><label for=\"sk-estimator-id-34\" class=\"sk-toggleable__label sk-toggleable__label-arrow\">functiontransformer-1</label><div class=\"sk-toggleable__content\"><pre>[&#x27;county&#x27;]</pre></div></div></div><div class=\"sk-serial\"><div class=\"sk-item\"><div class=\"sk-estimator sk-toggleable\"><input class=\"sk-toggleable__control sk-hidden--visually\" id=\"sk-estimator-id-35\" type=\"checkbox\" ><label for=\"sk-estimator-id-35\" class=\"sk-toggleable__label sk-toggleable__label-arrow\">FunctionTransformer</label><div class=\"sk-toggleable__content\"><pre>FunctionTransformer(func=&lt;function select_counties at 0x11d2fca40&gt;)</pre></div></div></div></div></div></div><div class=\"sk-parallel-item\"><div class=\"sk-item\"><div class=\"sk-label-container\"><div class=\"sk-label sk-toggleable\"><input class=\"sk-toggleable__control sk-hidden--visually\" id=\"sk-estimator-id-36\" type=\"checkbox\" ><label for=\"sk-estimator-id-36\" class=\"sk-toggleable__label sk-toggleable__label-arrow\">functiontransformer-2</label><div class=\"sk-toggleable__content\"><pre>[&#x27;zona&#x27;]</pre></div></div></div><div class=\"sk-serial\"><div class=\"sk-item\"><div class=\"sk-estimator sk-toggleable\"><input class=\"sk-toggleable__control sk-hidden--visually\" id=\"sk-estimator-id-37\" type=\"checkbox\" ><label for=\"sk-estimator-id-37\" class=\"sk-toggleable__label sk-toggleable__label-arrow\">FunctionTransformer</label><div class=\"sk-toggleable__content\"><pre>FunctionTransformer(func=&lt;function is_central at 0x11d388220&gt;)</pre></div></div></div></div></div></div><div class=\"sk-parallel-item\"><div class=\"sk-item\"><div class=\"sk-label-container\"><div class=\"sk-label sk-toggleable\"><input class=\"sk-toggleable__control sk-hidden--visually\" id=\"sk-estimator-id-38\" type=\"checkbox\" ><label for=\"sk-estimator-id-38\" class=\"sk-toggleable__label sk-toggleable__label-arrow\">remainder</label><div class=\"sk-toggleable__content\"><pre>[&#x27;property_type&#x27;, &#x27;suprafata_utila&#x27;, &#x27;suprafata_teren&#x27;, &#x27;posibilitate_parcare&#x27;, &#x27;nr_locuri_parcare&#x27;, &#x27;numar_camere&#x27;, &#x27;numar_bai&#x27;, &#x27;an_finalizare_constructie&#x27;]</pre></div></div></div><div class=\"sk-serial\"><div class=\"sk-item\"><div class=\"sk-estimator sk-toggleable\"><input class=\"sk-toggleable__control sk-hidden--visually\" id=\"sk-estimator-id-39\" type=\"checkbox\" ><label for=\"sk-estimator-id-39\" class=\"sk-toggleable__label sk-toggleable__label-arrow\">passthrough</label><div class=\"sk-toggleable__content\"><pre>passthrough</pre></div></div></div></div></div></div></div></div><div class=\"sk-item sk-dashed-wrapped\"><div class=\"sk-label-container\"><div class=\"sk-label sk-toggleable\"><input class=\"sk-toggleable__control sk-hidden--visually\" id=\"sk-estimator-id-40\" type=\"checkbox\" ><label for=\"sk-estimator-id-40\" class=\"sk-toggleable__label sk-toggleable__label-arrow\">feature_transformer: ColumnTransformer</label><div class=\"sk-toggleable__content\"><pre>ColumnTransformer(transformers=[(&#x27;pipeline-1&#x27;,\n",
       "                                 Pipeline(steps=[(&#x27;simpleimputer&#x27;,\n",
       "                                                  SimpleImputer(strategy=&#x27;median&#x27;))]),\n",
       "                                 [&#x27;suprafata_utila&#x27;, &#x27;suprafata_teren&#x27;,\n",
       "                                  &#x27;nr_locuri_parcare&#x27;, &#x27;numar_camere&#x27;,\n",
       "                                  &#x27;numar_bai&#x27;, &#x27;an_finalizare_constructie&#x27;]),\n",
       "                                (&#x27;pipeline-2&#x27;,\n",
       "                                 Pipeline(steps=[(&#x27;simpleimputer&#x27;,\n",
       "                                                  SimpleImputer(fill_value=&#x27;missing&#x27;,\n",
       "                                                                strategy=&#x27;constant&#x27;)),\n",
       "                                                 (&#x27;onehotencoder&#x27;,\n",
       "                                                  OneHotEncoder(drop=&#x27;first&#x27;,\n",
       "                                                                sparse_output=False))]),\n",
       "                                 [&#x27;property_type&#x27;, &#x27;county&#x27;, &#x27;zona&#x27;,\n",
       "                                  &#x27;posibilitate_parcare&#x27;])],\n",
       "                  verbose_feature_names_out=False)</pre></div></div></div><div class=\"sk-parallel\"><div class=\"sk-parallel-item\"><div class=\"sk-item\"><div class=\"sk-label-container\"><div class=\"sk-label sk-toggleable\"><input class=\"sk-toggleable__control sk-hidden--visually\" id=\"sk-estimator-id-41\" type=\"checkbox\" ><label for=\"sk-estimator-id-41\" class=\"sk-toggleable__label sk-toggleable__label-arrow\">pipeline-1</label><div class=\"sk-toggleable__content\"><pre>[&#x27;suprafata_utila&#x27;, &#x27;suprafata_teren&#x27;, &#x27;nr_locuri_parcare&#x27;, &#x27;numar_camere&#x27;, &#x27;numar_bai&#x27;, &#x27;an_finalizare_constructie&#x27;]</pre></div></div></div><div class=\"sk-serial\"><div class=\"sk-item\"><div class=\"sk-serial\"><div class=\"sk-item\"><div class=\"sk-estimator sk-toggleable\"><input class=\"sk-toggleable__control sk-hidden--visually\" id=\"sk-estimator-id-42\" type=\"checkbox\" ><label for=\"sk-estimator-id-42\" class=\"sk-toggleable__label sk-toggleable__label-arrow\">SimpleImputer</label><div class=\"sk-toggleable__content\"><pre>SimpleImputer(strategy=&#x27;median&#x27;)</pre></div></div></div></div></div></div></div></div><div class=\"sk-parallel-item\"><div class=\"sk-item\"><div class=\"sk-label-container\"><div class=\"sk-label sk-toggleable\"><input class=\"sk-toggleable__control sk-hidden--visually\" id=\"sk-estimator-id-43\" type=\"checkbox\" ><label for=\"sk-estimator-id-43\" class=\"sk-toggleable__label sk-toggleable__label-arrow\">pipeline-2</label><div class=\"sk-toggleable__content\"><pre>[&#x27;property_type&#x27;, &#x27;county&#x27;, &#x27;zona&#x27;, &#x27;posibilitate_parcare&#x27;]</pre></div></div></div><div class=\"sk-serial\"><div class=\"sk-item\"><div class=\"sk-serial\"><div class=\"sk-item\"><div class=\"sk-estimator sk-toggleable\"><input class=\"sk-toggleable__control sk-hidden--visually\" id=\"sk-estimator-id-44\" type=\"checkbox\" ><label for=\"sk-estimator-id-44\" class=\"sk-toggleable__label sk-toggleable__label-arrow\">SimpleImputer</label><div class=\"sk-toggleable__content\"><pre>SimpleImputer(fill_value=&#x27;missing&#x27;, strategy=&#x27;constant&#x27;)</pre></div></div></div><div class=\"sk-item\"><div class=\"sk-estimator sk-toggleable\"><input class=\"sk-toggleable__control sk-hidden--visually\" id=\"sk-estimator-id-45\" type=\"checkbox\" ><label for=\"sk-estimator-id-45\" class=\"sk-toggleable__label sk-toggleable__label-arrow\">OneHotEncoder</label><div class=\"sk-toggleable__content\"><pre>OneHotEncoder(drop=&#x27;first&#x27;, sparse_output=False)</pre></div></div></div></div></div></div></div></div></div></div><div class=\"sk-item sk-dashed-wrapped\"><div class=\"sk-label-container\"><div class=\"sk-label sk-toggleable\"><input class=\"sk-toggleable__control sk-hidden--visually\" id=\"sk-estimator-id-46\" type=\"checkbox\" ><label for=\"sk-estimator-id-46\" class=\"sk-toggleable__label sk-toggleable__label-arrow\">area: ColumnTransformer</label><div class=\"sk-toggleable__content\"><pre>ColumnTransformer(remainder=&#x27;passthrough&#x27;,\n",
       "                  transformers=[(&#x27;functiontransformer&#x27;,\n",
       "                                 FunctionTransformer(func=&lt;function fe_area_ratio at 0x11d3884a0&gt;),\n",
       "                                 [&#x27;suprafata_utila&#x27;, &#x27;suprafata_teren&#x27;])],\n",
       "                  verbose_feature_names_out=False)</pre></div></div></div><div class=\"sk-parallel\"><div class=\"sk-parallel-item\"><div class=\"sk-item\"><div class=\"sk-label-container\"><div class=\"sk-label sk-toggleable\"><input class=\"sk-toggleable__control sk-hidden--visually\" id=\"sk-estimator-id-47\" type=\"checkbox\" ><label for=\"sk-estimator-id-47\" class=\"sk-toggleable__label sk-toggleable__label-arrow\">functiontransformer</label><div class=\"sk-toggleable__content\"><pre>[&#x27;suprafata_utila&#x27;, &#x27;suprafata_teren&#x27;]</pre></div></div></div><div class=\"sk-serial\"><div class=\"sk-item\"><div class=\"sk-estimator sk-toggleable\"><input class=\"sk-toggleable__control sk-hidden--visually\" id=\"sk-estimator-id-48\" type=\"checkbox\" ><label for=\"sk-estimator-id-48\" class=\"sk-toggleable__label sk-toggleable__label-arrow\">FunctionTransformer</label><div class=\"sk-toggleable__content\"><pre>FunctionTransformer(func=&lt;function fe_area_ratio at 0x11d3884a0&gt;)</pre></div></div></div></div></div></div><div class=\"sk-parallel-item\"><div class=\"sk-item\"><div class=\"sk-label-container\"><div class=\"sk-label sk-toggleable\"><input class=\"sk-toggleable__control sk-hidden--visually\" id=\"sk-estimator-id-49\" type=\"checkbox\" ><label for=\"sk-estimator-id-49\" class=\"sk-toggleable__label sk-toggleable__label-arrow\">remainder</label><div class=\"sk-toggleable__content\"><pre>[&#x27;nr_locuri_parcare&#x27;, &#x27;numar_camere&#x27;, &#x27;numar_bai&#x27;, &#x27;an_finalizare_constructie&#x27;, &#x27;property_type_house&#x27;, &#x27;county_Braila&#x27;, &#x27;county_Brasov&#x27;, &#x27;county_Bucuresti-Ilfov&#x27;, &#x27;county_Cluj&#x27;, &#x27;county_Constanta&#x27;, &#x27;county_Iasi&#x27;, &#x27;county_Other&#x27;, &#x27;county_Sibiu&#x27;, &#x27;county_Timis&#x27;, &#x27;zona_Nu&#x27;, &#x27;posibilitate_parcare_Nu&#x27;, &#x27;posibilitate_parcare_None&#x27;]</pre></div></div></div><div class=\"sk-serial\"><div class=\"sk-item\"><div class=\"sk-estimator sk-toggleable\"><input class=\"sk-toggleable__control sk-hidden--visually\" id=\"sk-estimator-id-50\" type=\"checkbox\" ><label for=\"sk-estimator-id-50\" class=\"sk-toggleable__label sk-toggleable__label-arrow\">passthrough</label><div class=\"sk-toggleable__content\"><pre>passthrough</pre></div></div></div></div></div></div></div></div><div class=\"sk-item\"><div class=\"sk-estimator sk-toggleable\"><input class=\"sk-toggleable__control sk-hidden--visually\" id=\"sk-estimator-id-51\" type=\"checkbox\" ><label for=\"sk-estimator-id-51\" class=\"sk-toggleable__label sk-toggleable__label-arrow\">XGBRegressor</label><div class=\"sk-toggleable__content\"><pre>XGBRegressor(base_score=None, booster=&#x27;gbtree&#x27;, callbacks=None,\n",
       "             colsample_bylevel=None, colsample_bynode=None,\n",
       "             colsample_bytree=None, early_stopping_rounds=None,\n",
       "             enable_categorical=False, eval_metric=None, feature_types=None,\n",
       "             gamma=None, gpu_id=None, grow_policy=None, importance_type=None,\n",
       "             interaction_constraints=None, lambda=0.4, learning_rate=0.035,\n",
       "             max_bin=None, max_cat_threshold=None, max_cat_to_onehot=None,\n",
       "             max_delta_step=None, max_depth=9, max_leaves=None,\n",
       "             min_child_weight=None, missing=nan, monotone_constraints=None,\n",
       "             n_estimators=70, n_jobs=None, num_parallel_tree=None,\n",
       "             predictor=None, ...)</pre></div></div></div></div></div></div></div>"
      ],
      "text/plain": [
       "Pipeline(steps=[('columns_transformers',\n",
       "                 ColumnTransformer(remainder='passthrough',\n",
       "                                   transformers=[('functiontransformer-1',\n",
       "                                                  FunctionTransformer(func=<function select_counties at 0x11d2fca40>),\n",
       "                                                  ['county']),\n",
       "                                                 ('functiontransformer-2',\n",
       "                                                  FunctionTransformer(func=<function is_central at 0x11d388220>),\n",
       "                                                  ['zona'])],\n",
       "                                   verbose_feature_names_out=False)),\n",
       "                ('feature_transformer'...\n",
       "                              feature_types=None, gamma=None, gpu_id=None,\n",
       "                              grow_policy=None, importance_type=None,\n",
       "                              interaction_constraints=None, lambda=0.4,\n",
       "                              learning_rate=0.035, max_bin=None,\n",
       "                              max_cat_threshold=None, max_cat_to_onehot=None,\n",
       "                              max_delta_step=None, max_depth=9, max_leaves=None,\n",
       "                              min_child_weight=None, missing=nan,\n",
       "                              monotone_constraints=None, n_estimators=70,\n",
       "                              n_jobs=None, num_parallel_tree=None,\n",
       "                              predictor=None, ...))])"
      ]
     },
     "execution_count": 30,
     "metadata": {},
     "output_type": "execute_result"
    }
   ],
   "source": [
    "xgb_reg_model.fit(X_train, y_train)"
   ]
  },
  {
   "cell_type": "code",
   "execution_count": 31,
   "id": "138c5cd5-b25c-44bb-a1c6-aac7f78da4a6",
   "metadata": {},
   "outputs": [],
   "source": [
    "y_test_pred = xgb_reg_model.predict(X_test)"
   ]
  },
  {
   "cell_type": "markdown",
   "id": "5fd9b894-132d-44f3-864c-95f922302f72",
   "metadata": {},
   "source": [
    "### Save model"
   ]
  },
  {
   "cell_type": "code",
   "execution_count": null,
   "id": "7deb4aed-cd53-4e5a-bff5-871475602119",
   "metadata": {},
   "outputs": [],
   "source": [
    "pickle.dump(xgb_reg_model, open('../models/ml/xgb_reg_model.pkl', 'wb'))"
   ]
  },
  {
   "cell_type": "code",
   "execution_count": 32,
   "id": "008c9948-77f4-4c30-a458-a6162e200727",
   "metadata": {},
   "outputs": [],
   "source": [
    "y_train_pred = xgb_reg_model.predict(X_train)\n",
    "y_test_pred = xgb_reg_model.predict(X_test)"
   ]
  },
  {
   "cell_type": "markdown",
   "id": "41fe1d8d-5cd4-433a-8229-85da03b0d34e",
   "metadata": {},
   "source": [
    "## Model Diagnosis"
   ]
  },
  {
   "cell_type": "code",
   "execution_count": 33,
   "id": "42575ab0-8036-476a-89c5-843038030333",
   "metadata": {},
   "outputs": [
    {
     "name": "stdout",
     "output_type": "stream",
     "text": [
      "Deciles\n",
      "1     0.185238\n",
      "2     0.150772\n",
      "3     0.143170\n",
      "4     0.129833\n",
      "5     0.150887\n",
      "6     0.159626\n",
      "7     0.177199\n",
      "8     0.171511\n",
      "9     0.181793\n",
      "10    0.233738\n",
      "dtype: float64\n"
     ]
    },
    {
     "data": {
      "text/plain": [
       "<Axes: title={'center': 'MAPE by Decile in Training'}, xlabel='Deciles', ylabel='MAPE'>"
      ]
     },
     "execution_count": 33,
     "metadata": {},
     "output_type": "execute_result"
    },
    {
     "data": {
      "image/png": "[encoded data removed]",
      "text/plain": [
       "<Figure size 640x480 with 1 Axes>"
      ]
     },
     "metadata": {},
     "output_type": "display_data"
    }
   ],
   "source": [
    "train_results = pd.DataFrame(zip(y_train, y_train_pred), columns=['y_train', 'y_train_pred'])\n",
    "\n",
    "\n",
    "cut_points = list(train_results.y_train.quantile(np.arange(0,1,0.1)))\n",
    "\n",
    "cut_points.append(np.Inf)\n",
    "\n",
    "cut_points.insert(0, -np.Inf)\n",
    "\n",
    "cut_points = list(set(cut_points))\n",
    "\n",
    "cut_points.sort()\n",
    "\n",
    "train_results['Deciles'] = pd.cut(train_results.y_train,cut_points, right=False, ordered=True, labels = False)\n",
    "\n",
    "mape_deciles = train_results.groupby('Deciles').apply(lambda group: mean_absolute_percentage_error(group['y_train'], group['y_train_pred'])).sort_index()\n",
    "\n",
    "#print(mape_deciles)\n",
    "\n",
    "#mean_absolute_percentage_error(\n",
    "#    train_results.loc[train_results.Deciles.isin(range(0,6)), 'y_train'],\n",
    "#    train_results.loc[train_results.Deciles.isin(range(0,6)), 'y_train_pred'])\n",
    "\n",
    "mape_deciles.plot(ylabel = 'MAPE', title = 'MAPE by Decile in Training', ylim = [0,0.3])"
   ]
  },
  {
   "cell_type": "markdown",
   "id": "72e75631-babf-44ad-8d07-9dbfad84250f",
   "metadata": {},
   "source": [
    "### Test Diagnosis"
   ]
  },
  {
   "cell_type": "code",
   "execution_count": 36,
   "id": "917b6c25-4130-4425-88a7-f3fedb6eda3c",
   "metadata": {},
   "outputs": [
    {
     "data": {
      "text/plain": [
       "<Axes: title={'center': 'MAPE by Decile in Test set'}, xlabel='Deciles', ylabel='MAPE'>"
      ]
     },
     "execution_count": 36,
     "metadata": {},
     "output_type": "execute_result"
    },
    {
     "data": {
      "image/png": "[encoded data removed]",
      "text/plain": [
       "<Figure size 640x480 with 1 Axes>"
      ]
     },
     "metadata": {},
     "output_type": "display_data"
    }
   ],
   "source": [
    "test_results = pd.DataFrame(zip(y_test, y_test_pred), columns=['y_test', 'y_test_pred'])\n",
    "\n",
    "cut_points = list(test_results.y_test.quantile(np.arange(0,1,0.1)))\n",
    "\n",
    "cut_points.append(np.Inf)\n",
    "\n",
    "cut_points.insert(0, -np.Inf)\n",
    "\n",
    "cut_points = list(set(cut_points))\n",
    "\n",
    "cut_points.sort()\n",
    "\n",
    "test_results['Deciles'] = pd.cut(test_results.y_test,cut_points, right=False, ordered=True, labels = False)\n",
    "\n",
    "mape_deciles = test_results.groupby('Deciles').apply(lambda group: mean_absolute_percentage_error(group['y_test'], group['y_test_pred'])).sort_index()\n",
    "\n",
    "#print(mape_deciles)\n",
    "\n",
    "#mean_absolute_percentage_error(\n",
    "#    train_results.loc[train_results.Deciles.isin(range(0,6)), 'y_train'],\n",
    "#    train_results.loc[train_results.Deciles.isin(range(0,6)), 'y_train_pred'])\n",
    "\n",
    "mape_deciles.plot(ylabel = 'MAPE', title = 'MAPE by Decile in Test set', ylim = [0,0.3])"
   ]
  },
  {
   "cell_type": "code",
   "execution_count": 49,
   "id": "925df812-0d93-4d7a-9bd6-c50619e46c60",
   "metadata": {},
   "outputs": [],
   "source": [
    "test_results['Deciles_interval'] = pd.cut(test_results.y_test,cut_points, right=False, ordered=True).astype('str')"
   ]
  },
  {
   "cell_type": "code",
   "execution_count": 50,
   "id": "008d2e99-d9f1-4dfc-b9fb-636ab4039dee",
   "metadata": {},
   "outputs": [
    {
     "data": {
      "text/plain": [
       "Deciles  Deciles_interval    \n",
       "1        [38999.0, 55000.0)      0.221452\n",
       "2        [55000.0, 64500.0)      0.163341\n",
       "3        [64500.0, 72000.0)      0.162654\n",
       "4        [72000.0, 80000.0)      0.148769\n",
       "5        [80000.0, 89800.0)      0.167169\n",
       "6        [89800.0, 103500.0)     0.179316\n",
       "7        [103500.0, 120000.0)    0.189686\n",
       "8        [120000.0, 145000.0)    0.192007\n",
       "9        [145000.0, 189450.0)    0.202548\n",
       "10       [189450.0, inf)         0.277574\n",
       "dtype: float64"
      ]
     },
     "execution_count": 50,
     "metadata": {},
     "output_type": "execute_result"
    }
   ],
   "source": [
    "test_results.groupby(['Deciles', 'Deciles_interval']).apply(lambda group: mean_absolute_percentage_error(group['y_test'], group['y_test_pred']))"
   ]
  },
  {
   "cell_type": "code",
   "execution_count": 60,
   "id": "64e18c46-8f25-4b79-9393-502dee86f334",
   "metadata": {},
   "outputs": [
    {
     "data": {
      "text/plain": [
       "<sklearn.metrics._plot.regression.PredictionErrorDisplay at 0x1274ee190>"
      ]
     },
     "execution_count": 60,
     "metadata": {},
     "output_type": "execute_result"
    },
    {
     "data": {
      "image/png": "[encoded data removed]",
      "text/plain": [
       "<Figure size 640x480 with 1 Axes>"
      ]
     },
     "metadata": {},
     "output_type": "display_data"
    }
   ],
   "source": [
    "PredictionErrorDisplay.from_predictions(\n",
    "        y_true=train_results.y_train,\n",
    "        y_pred=train_results.y_train_pred,\n",
    "        kind=\"actual_vs_predicted\",\n",
    "        #ax=ax,\n",
    "        scatter_kwargs={\"alpha\": 0.1, \"color\": \"tab:blue\"},\n",
    "        line_kwargs={\"color\": \"tab:red\"},\n",
    "    )"
   ]
  },
  {
   "cell_type": "code",
   "execution_count": 67,
   "id": "3262dd6f-804a-4aeb-9aa9-8f31a66f2a1a",
   "metadata": {},
   "outputs": [
    {
     "data": {
      "text/html": [
       "<div>\n",
       "<style scoped>\n",
       "    .dataframe tbody tr th:only-of-type {\n",
       "        vertical-align: middle;\n",
       "    }\n",
       "\n",
       "    .dataframe tbody tr th {\n",
       "        vertical-align: top;\n",
       "    }\n",
       "\n",
       "    .dataframe thead th {\n",
       "        text-align: right;\n",
       "    }\n",
       "</style>\n",
       "<table border=\"1\" class=\"dataframe\">\n",
       "  <thead>\n",
       "    <tr style=\"text-align: right;\">\n",
       "      <th></th>\n",
       "      <th>y_test</th>\n",
       "      <th>y_test_pred</th>\n",
       "      <th>Deciles</th>\n",
       "      <th>Deciles_interval</th>\n",
       "    </tr>\n",
       "  </thead>\n",
       "  <tbody>\n",
       "    <tr>\n",
       "      <th>0</th>\n",
       "      <td>348000.0</td>\n",
       "      <td>271179.500000</td>\n",
       "      <td>10</td>\n",
       "      <td>[189450.0, inf)</td>\n",
       "    </tr>\n",
       "    <tr>\n",
       "      <th>1</th>\n",
       "      <td>110000.0</td>\n",
       "      <td>159050.531250</td>\n",
       "      <td>7</td>\n",
       "      <td>[103500.0, 120000.0)</td>\n",
       "    </tr>\n",
       "    <tr>\n",
       "      <th>2</th>\n",
       "      <td>60000.0</td>\n",
       "      <td>77696.109375</td>\n",
       "      <td>2</td>\n",
       "      <td>[55000.0, 64500.0)</td>\n",
       "    </tr>\n",
       "    <tr>\n",
       "      <th>3</th>\n",
       "      <td>84000.0</td>\n",
       "      <td>77681.703125</td>\n",
       "      <td>5</td>\n",
       "      <td>[80000.0, 89800.0)</td>\n",
       "    </tr>\n",
       "    <tr>\n",
       "      <th>4</th>\n",
       "      <td>159000.0</td>\n",
       "      <td>158638.937500</td>\n",
       "      <td>9</td>\n",
       "      <td>[145000.0, 189450.0)</td>\n",
       "    </tr>\n",
       "    <tr>\n",
       "      <th>...</th>\n",
       "      <td>...</td>\n",
       "      <td>...</td>\n",
       "      <td>...</td>\n",
       "      <td>...</td>\n",
       "    </tr>\n",
       "    <tr>\n",
       "      <th>5591</th>\n",
       "      <td>85000.0</td>\n",
       "      <td>66453.015625</td>\n",
       "      <td>5</td>\n",
       "      <td>[80000.0, 89800.0)</td>\n",
       "    </tr>\n",
       "    <tr>\n",
       "      <th>5592</th>\n",
       "      <td>74400.0</td>\n",
       "      <td>64837.925781</td>\n",
       "      <td>4</td>\n",
       "      <td>[72000.0, 80000.0)</td>\n",
       "    </tr>\n",
       "    <tr>\n",
       "      <th>5593</th>\n",
       "      <td>59500.0</td>\n",
       "      <td>60363.179688</td>\n",
       "      <td>2</td>\n",
       "      <td>[55000.0, 64500.0)</td>\n",
       "    </tr>\n",
       "    <tr>\n",
       "      <th>5594</th>\n",
       "      <td>45000.0</td>\n",
       "      <td>68335.382812</td>\n",
       "      <td>1</td>\n",
       "      <td>[38999.0, 55000.0)</td>\n",
       "    </tr>\n",
       "    <tr>\n",
       "      <th>5595</th>\n",
       "      <td>139000.0</td>\n",
       "      <td>115694.937500</td>\n",
       "      <td>8</td>\n",
       "      <td>[120000.0, 145000.0)</td>\n",
       "    </tr>\n",
       "  </tbody>\n",
       "</table>\n",
       "<p>5596 rows × 4 columns</p>\n",
       "</div>"
      ],
      "text/plain": [
       "        y_test    y_test_pred  Deciles      Deciles_interval\n",
       "0     348000.0  271179.500000       10       [189450.0, inf)\n",
       "1     110000.0  159050.531250        7  [103500.0, 120000.0)\n",
       "2      60000.0   77696.109375        2    [55000.0, 64500.0)\n",
       "3      84000.0   77681.703125        5    [80000.0, 89800.0)\n",
       "4     159000.0  158638.937500        9  [145000.0, 189450.0)\n",
       "...        ...            ...      ...                   ...\n",
       "5591   85000.0   66453.015625        5    [80000.0, 89800.0)\n",
       "5592   74400.0   64837.925781        4    [72000.0, 80000.0)\n",
       "5593   59500.0   60363.179688        2    [55000.0, 64500.0)\n",
       "5594   45000.0   68335.382812        1    [38999.0, 55000.0)\n",
       "5595  139000.0  115694.937500        8  [120000.0, 145000.0)\n",
       "\n",
       "[5596 rows x 4 columns]"
      ]
     },
     "execution_count": 67,
     "metadata": {},
     "output_type": "execute_result"
    }
   ],
   "source": [
    "test_results"
   ]
  },
  {
   "cell_type": "code",
   "execution_count": 65,
   "id": "e3b64c22-378a-4bfa-a92a-4a211e14d608",
   "metadata": {},
   "outputs": [
    {
     "data": {
      "text/plain": [
       "<sklearn.metrics._plot.regression.PredictionErrorDisplay at 0x11f683ad0>"
      ]
     },
     "execution_count": 65,
     "metadata": {},
     "output_type": "execute_result"
    },
    {
     "data": {
      "image/png": "[encoded data removed]",
      "text/plain": [
       "<Figure size 640x480 with 1 Axes>"
      ]
     },
     "metadata": {},
     "output_type": "display_data"
    }
   ],
   "source": [
    "PredictionErrorDisplay.from_predictions(\n",
    "        y_true=test_results.y_test,\n",
    "        y_pred=test_results.y_test_pred,\n",
    "        kind=\"actual_vs_predicted\",\n",
    "        scatter_kwargs={\"alpha\": 0.1, \"color\": \"tab:blue\"},\n",
    "        line_kwargs={\"color\": \"tab:red\"},\n",
    "    )"
   ]
  },
  {
   "cell_type": "code",
   "execution_count": 95,
   "id": "988d36e4-9c39-41c3-89dc-de45f880840d",
   "metadata": {},
   "outputs": [
    {
     "name": "stdout",
     "output_type": "stream",
     "text": [
      "RMSE: 36110.579383\n",
      "MAPE: 0.190342\n",
      "MSLE: 0.066226\n"
     ]
    }
   ],
   "source": [
    "#### Test Metrics #####\n",
    "print('RMSE: {0:2f}'.format(np.sqrt(mean_squared_error(test_results.y_test,  test_results.y_test_pred))))\n",
    "print('MAPE: {0:2f}'.format(mean_absolute_percentage_error(test_results.y_test,  test_results.y_test_pred)))\n",
    "print('MSLE: {0:2f}'.format(mean_squared_log_error(test_results.y_test,  test_results.y_test_pred)))"
   ]
  },
  {
   "cell_type": "markdown",
   "id": "228bbce1-31f2-4647-9db4-31c52b1b0b88",
   "metadata": {},
   "source": [
    "# Conclusion"
   ]
  },
  {
   "cell_type": "code",
   "execution_count": null,
   "id": "e46dd8e9-e7b3-4bcc-aa5a-9c9c5675ff0a",
   "metadata": {},
   "outputs": [],
   "source": []
  }
 ],
 "metadata": {
  "kernelspec": {
   "display_name": "Python 3 (ipykernel)",
   "language": "python",
   "name": "python3"
  },
  "language_info": {
   "codemirror_mode": {
    "name": "ipython",
    "version": 3
   },
   "file_extension": ".py",
   "mimetype": "text/x-python",
   "name": "python",
   "nbconvert_exporter": "python",
   "pygments_lexer": "ipython3",
   "version": "3.11.4"
  }
 },
 "nbformat": 4,
 "nbformat_minor": 5
}
